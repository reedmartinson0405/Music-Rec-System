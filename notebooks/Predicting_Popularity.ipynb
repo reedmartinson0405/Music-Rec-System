{
 "cells": [
  {
   "cell_type": "markdown",
   "metadata": {},
   "source": [
    "# Predicting Popularity "
   ]
  },
  {
   "cell_type": "markdown",
   "metadata": {},
   "source": [
    "## Business Understanding \n",
    "\n",
    "I have been hired by Apple Music to help improve their recommendation system to keep users engaged on their streaming service. Apple Music wants to make their   "
   ]
  },
  {
   "cell_type": "code",
   "execution_count": 40,
   "metadata": {},
   "outputs": [],
   "source": [
    "import pandas as pd \n",
    "import numpy as np \n",
    "import matplotlib.pyplot as plt\n",
    "import surprise\n",
    "import seaborn as sns\n",
    "\n",
    "from sklearn.preprocessing import StandardScaler\n",
    "from sklearn.model_selection import train_test_split\n",
    "from sklearn.tree import DecisionTreeClassifier\n",
    "from sklearn.metrics import f1_score, precision_score, roc_auc_score, plot_confusion_matrix, plot_roc_curve\n",
    "from sklearn.pipeline import Pipeline\n",
    "from sklearn.compose import ColumnTransformer\n",
    "from sklearn.preprocessing import OneHotEncoder, StandardScaler\n",
    "from sklearn.linear_model import LogisticRegression\n",
    "from sklearn.neighbors import KNeighborsClassifier"
   ]
  },
  {
   "cell_type": "code",
   "execution_count": 2,
   "metadata": {},
   "outputs": [],
   "source": [
    "df = pd.read_csv('final_df.csv', index_col=0)"
   ]
  },
  {
   "cell_type": "code",
   "execution_count": 3,
   "metadata": {},
   "outputs": [
    {
     "data": {
      "text/html": [
       "<div>\n",
       "<style scoped>\n",
       "    .dataframe tbody tr th:only-of-type {\n",
       "        vertical-align: middle;\n",
       "    }\n",
       "\n",
       "    .dataframe tbody tr th {\n",
       "        vertical-align: top;\n",
       "    }\n",
       "\n",
       "    .dataframe thead th {\n",
       "        text-align: right;\n",
       "    }\n",
       "</style>\n",
       "<table border=\"1\" class=\"dataframe\">\n",
       "  <thead>\n",
       "    <tr style=\"text-align: right;\">\n",
       "      <th></th>\n",
       "      <th>track_id</th>\n",
       "      <th>track_name</th>\n",
       "      <th>track_popularity</th>\n",
       "      <th>duration_ms</th>\n",
       "      <th>explicit</th>\n",
       "      <th>release_date</th>\n",
       "      <th>danceability</th>\n",
       "      <th>energy</th>\n",
       "      <th>key</th>\n",
       "      <th>loudness</th>\n",
       "      <th>...</th>\n",
       "      <th>instrumentalness</th>\n",
       "      <th>liveness</th>\n",
       "      <th>valence</th>\n",
       "      <th>tempo</th>\n",
       "      <th>time_signature</th>\n",
       "      <th>artist_id</th>\n",
       "      <th>followers</th>\n",
       "      <th>genres</th>\n",
       "      <th>artist_name</th>\n",
       "      <th>artist_popularity</th>\n",
       "    </tr>\n",
       "  </thead>\n",
       "  <tbody>\n",
       "    <tr>\n",
       "      <th>0</th>\n",
       "      <td>35iwgR4jXetI318WEWsa1Q</td>\n",
       "      <td>Carve</td>\n",
       "      <td>6</td>\n",
       "      <td>126903</td>\n",
       "      <td>0</td>\n",
       "      <td>1922-02-22</td>\n",
       "      <td>0.645</td>\n",
       "      <td>0.44500</td>\n",
       "      <td>0</td>\n",
       "      <td>-13.338</td>\n",
       "      <td>...</td>\n",
       "      <td>0.744000</td>\n",
       "      <td>0.1510</td>\n",
       "      <td>0.127</td>\n",
       "      <td>104.851</td>\n",
       "      <td>3</td>\n",
       "      <td>45tIt06XoI0Iio4LBEVpls</td>\n",
       "      <td>91.0</td>\n",
       "      <td>NaN</td>\n",
       "      <td>Uli</td>\n",
       "      <td>4</td>\n",
       "    </tr>\n",
       "    <tr>\n",
       "      <th>1</th>\n",
       "      <td>0PH9AACae1f957JAavhOl2</td>\n",
       "      <td>Lazy Boi</td>\n",
       "      <td>0</td>\n",
       "      <td>157333</td>\n",
       "      <td>0</td>\n",
       "      <td>1922-02-22</td>\n",
       "      <td>0.298</td>\n",
       "      <td>0.46000</td>\n",
       "      <td>1</td>\n",
       "      <td>-18.645</td>\n",
       "      <td>...</td>\n",
       "      <td>0.856000</td>\n",
       "      <td>0.4360</td>\n",
       "      <td>0.402</td>\n",
       "      <td>87.921</td>\n",
       "      <td>4</td>\n",
       "      <td>45tIt06XoI0Iio4LBEVpls</td>\n",
       "      <td>91.0</td>\n",
       "      <td>NaN</td>\n",
       "      <td>Uli</td>\n",
       "      <td>4</td>\n",
       "    </tr>\n",
       "    <tr>\n",
       "      <th>2</th>\n",
       "      <td>2SiNuAZ6jIU9xhClRKXcST</td>\n",
       "      <td>Sketch</td>\n",
       "      <td>0</td>\n",
       "      <td>87040</td>\n",
       "      <td>0</td>\n",
       "      <td>1922-02-22</td>\n",
       "      <td>0.634</td>\n",
       "      <td>0.00399</td>\n",
       "      <td>5</td>\n",
       "      <td>-29.973</td>\n",
       "      <td>...</td>\n",
       "      <td>0.919000</td>\n",
       "      <td>0.1050</td>\n",
       "      <td>0.396</td>\n",
       "      <td>79.895</td>\n",
       "      <td>4</td>\n",
       "      <td>45tIt06XoI0Iio4LBEVpls</td>\n",
       "      <td>91.0</td>\n",
       "      <td>NaN</td>\n",
       "      <td>Uli</td>\n",
       "      <td>4</td>\n",
       "    </tr>\n",
       "    <tr>\n",
       "      <th>3</th>\n",
       "      <td>4vV7uBcF2AnjNTOejBS5oL</td>\n",
       "      <td>L'enfer</td>\n",
       "      <td>0</td>\n",
       "      <td>40000</td>\n",
       "      <td>0</td>\n",
       "      <td>1922-02-22</td>\n",
       "      <td>0.657</td>\n",
       "      <td>0.32500</td>\n",
       "      <td>10</td>\n",
       "      <td>-14.319</td>\n",
       "      <td>...</td>\n",
       "      <td>0.856000</td>\n",
       "      <td>0.0931</td>\n",
       "      <td>0.105</td>\n",
       "      <td>81.944</td>\n",
       "      <td>5</td>\n",
       "      <td>45tIt06XoI0Iio4LBEVpls</td>\n",
       "      <td>91.0</td>\n",
       "      <td>NaN</td>\n",
       "      <td>Uli</td>\n",
       "      <td>4</td>\n",
       "    </tr>\n",
       "    <tr>\n",
       "      <th>4</th>\n",
       "      <td>598LlBn6jpEpVbLjmZPsYV</td>\n",
       "      <td>Graphite</td>\n",
       "      <td>0</td>\n",
       "      <td>104400</td>\n",
       "      <td>0</td>\n",
       "      <td>1922-02-22</td>\n",
       "      <td>0.644</td>\n",
       "      <td>0.68400</td>\n",
       "      <td>7</td>\n",
       "      <td>-8.247</td>\n",
       "      <td>...</td>\n",
       "      <td>0.802000</td>\n",
       "      <td>0.0847</td>\n",
       "      <td>0.138</td>\n",
       "      <td>100.031</td>\n",
       "      <td>4</td>\n",
       "      <td>45tIt06XoI0Iio4LBEVpls</td>\n",
       "      <td>91.0</td>\n",
       "      <td>NaN</td>\n",
       "      <td>Uli</td>\n",
       "      <td>4</td>\n",
       "    </tr>\n",
       "    <tr>\n",
       "      <th>...</th>\n",
       "      <td>...</td>\n",
       "      <td>...</td>\n",
       "      <td>...</td>\n",
       "      <td>...</td>\n",
       "      <td>...</td>\n",
       "      <td>...</td>\n",
       "      <td>...</td>\n",
       "      <td>...</td>\n",
       "      <td>...</td>\n",
       "      <td>...</td>\n",
       "      <td>...</td>\n",
       "      <td>...</td>\n",
       "      <td>...</td>\n",
       "      <td>...</td>\n",
       "      <td>...</td>\n",
       "      <td>...</td>\n",
       "      <td>...</td>\n",
       "      <td>...</td>\n",
       "      <td>...</td>\n",
       "      <td>...</td>\n",
       "      <td>...</td>\n",
       "    </tr>\n",
       "    <tr>\n",
       "      <th>470033</th>\n",
       "      <td>0MmaEacabpK8Yp3Mdeo5uY</td>\n",
       "      <td>下雨天</td>\n",
       "      <td>50</td>\n",
       "      <td>265846</td>\n",
       "      <td>0</td>\n",
       "      <td>2020-02-25</td>\n",
       "      <td>0.528</td>\n",
       "      <td>0.67300</td>\n",
       "      <td>4</td>\n",
       "      <td>-3.639</td>\n",
       "      <td>...</td>\n",
       "      <td>0.000000</td>\n",
       "      <td>0.0989</td>\n",
       "      <td>0.297</td>\n",
       "      <td>130.066</td>\n",
       "      <td>4</td>\n",
       "      <td>5VGgFE9nPgMfEnYiPT5J2B</td>\n",
       "      <td>929.0</td>\n",
       "      <td>chinese viral pop</td>\n",
       "      <td>芝麻</td>\n",
       "      <td>36</td>\n",
       "    </tr>\n",
       "    <tr>\n",
       "      <th>470034</th>\n",
       "      <td>1dKxf4Ht2SsKLyXfSDJAgy</td>\n",
       "      <td>The Cutest Puppy</td>\n",
       "      <td>67</td>\n",
       "      <td>82500</td>\n",
       "      <td>0</td>\n",
       "      <td>2020-10-30</td>\n",
       "      <td>0.609</td>\n",
       "      <td>0.01720</td>\n",
       "      <td>8</td>\n",
       "      <td>-28.573</td>\n",
       "      <td>...</td>\n",
       "      <td>0.973000</td>\n",
       "      <td>0.1080</td>\n",
       "      <td>0.890</td>\n",
       "      <td>68.619</td>\n",
       "      <td>4</td>\n",
       "      <td>7vgGpuiXdNlCmc994PlMlz</td>\n",
       "      <td>23.0</td>\n",
       "      <td>instrumental lullaby</td>\n",
       "      <td>Laureen Conrad</td>\n",
       "      <td>52</td>\n",
       "    </tr>\n",
       "    <tr>\n",
       "      <th>470035</th>\n",
       "      <td>0SjsIzJkZfDU7wlcdklEFR</td>\n",
       "      <td>John Brown's Song</td>\n",
       "      <td>66</td>\n",
       "      <td>185250</td>\n",
       "      <td>0</td>\n",
       "      <td>2020-03-20</td>\n",
       "      <td>0.562</td>\n",
       "      <td>0.03310</td>\n",
       "      <td>1</td>\n",
       "      <td>-25.551</td>\n",
       "      <td>...</td>\n",
       "      <td>0.961000</td>\n",
       "      <td>0.1110</td>\n",
       "      <td>0.386</td>\n",
       "      <td>63.696</td>\n",
       "      <td>3</td>\n",
       "      <td>4MxqhahGRT4BPz1PilXGeu</td>\n",
       "      <td>91.0</td>\n",
       "      <td>instrumental lullaby</td>\n",
       "      <td>Gregory Oberle</td>\n",
       "      <td>55</td>\n",
       "    </tr>\n",
       "    <tr>\n",
       "      <th>470036</th>\n",
       "      <td>5rgu12WBIHQtvej2MdHSH0</td>\n",
       "      <td>云与海</td>\n",
       "      <td>50</td>\n",
       "      <td>258267</td>\n",
       "      <td>0</td>\n",
       "      <td>2020-09-26</td>\n",
       "      <td>0.560</td>\n",
       "      <td>0.51800</td>\n",
       "      <td>0</td>\n",
       "      <td>-7.471</td>\n",
       "      <td>...</td>\n",
       "      <td>0.000000</td>\n",
       "      <td>0.0648</td>\n",
       "      <td>0.211</td>\n",
       "      <td>131.896</td>\n",
       "      <td>4</td>\n",
       "      <td>1QLBXKM5GCpyQQSVMNZqrZ</td>\n",
       "      <td>896.0</td>\n",
       "      <td>chinese viral pop</td>\n",
       "      <td>阿YueYue</td>\n",
       "      <td>38</td>\n",
       "    </tr>\n",
       "    <tr>\n",
       "      <th>470037</th>\n",
       "      <td>0NuWgxEp51CutD2pJoF4OM</td>\n",
       "      <td>blind</td>\n",
       "      <td>72</td>\n",
       "      <td>153293</td>\n",
       "      <td>0</td>\n",
       "      <td>2020-10-21</td>\n",
       "      <td>0.765</td>\n",
       "      <td>0.66300</td>\n",
       "      <td>0</td>\n",
       "      <td>-5.223</td>\n",
       "      <td>...</td>\n",
       "      <td>0.000297</td>\n",
       "      <td>0.0924</td>\n",
       "      <td>0.686</td>\n",
       "      <td>150.091</td>\n",
       "      <td>4</td>\n",
       "      <td>1dy5WNgIKQU6ezkpZs4y8z</td>\n",
       "      <td>245944.0</td>\n",
       "      <td>alt z, alternative r&amp;b, bedroom pop, indie caf...</td>\n",
       "      <td>ROLE MODEL</td>\n",
       "      <td>67</td>\n",
       "    </tr>\n",
       "  </tbody>\n",
       "</table>\n",
       "<p>470038 rows × 23 columns</p>\n",
       "</div>"
      ],
      "text/plain": [
       "                      track_id         track_name  track_popularity  \\\n",
       "0       35iwgR4jXetI318WEWsa1Q              Carve                 6   \n",
       "1       0PH9AACae1f957JAavhOl2           Lazy Boi                 0   \n",
       "2       2SiNuAZ6jIU9xhClRKXcST             Sketch                 0   \n",
       "3       4vV7uBcF2AnjNTOejBS5oL            L'enfer                 0   \n",
       "4       598LlBn6jpEpVbLjmZPsYV           Graphite                 0   \n",
       "...                        ...                ...               ...   \n",
       "470033  0MmaEacabpK8Yp3Mdeo5uY                下雨天                50   \n",
       "470034  1dKxf4Ht2SsKLyXfSDJAgy   The Cutest Puppy                67   \n",
       "470035  0SjsIzJkZfDU7wlcdklEFR  John Brown's Song                66   \n",
       "470036  5rgu12WBIHQtvej2MdHSH0                云与海                50   \n",
       "470037  0NuWgxEp51CutD2pJoF4OM              blind                72   \n",
       "\n",
       "        duration_ms  explicit release_date  danceability   energy  key  \\\n",
       "0            126903         0   1922-02-22         0.645  0.44500    0   \n",
       "1            157333         0   1922-02-22         0.298  0.46000    1   \n",
       "2             87040         0   1922-02-22         0.634  0.00399    5   \n",
       "3             40000         0   1922-02-22         0.657  0.32500   10   \n",
       "4            104400         0   1922-02-22         0.644  0.68400    7   \n",
       "...             ...       ...          ...           ...      ...  ...   \n",
       "470033       265846         0   2020-02-25         0.528  0.67300    4   \n",
       "470034        82500         0   2020-10-30         0.609  0.01720    8   \n",
       "470035       185250         0   2020-03-20         0.562  0.03310    1   \n",
       "470036       258267         0   2020-09-26         0.560  0.51800    0   \n",
       "470037       153293         0   2020-10-21         0.765  0.66300    0   \n",
       "\n",
       "        loudness  ...  instrumentalness  liveness  valence    tempo  \\\n",
       "0        -13.338  ...          0.744000    0.1510    0.127  104.851   \n",
       "1        -18.645  ...          0.856000    0.4360    0.402   87.921   \n",
       "2        -29.973  ...          0.919000    0.1050    0.396   79.895   \n",
       "3        -14.319  ...          0.856000    0.0931    0.105   81.944   \n",
       "4         -8.247  ...          0.802000    0.0847    0.138  100.031   \n",
       "...          ...  ...               ...       ...      ...      ...   \n",
       "470033    -3.639  ...          0.000000    0.0989    0.297  130.066   \n",
       "470034   -28.573  ...          0.973000    0.1080    0.890   68.619   \n",
       "470035   -25.551  ...          0.961000    0.1110    0.386   63.696   \n",
       "470036    -7.471  ...          0.000000    0.0648    0.211  131.896   \n",
       "470037    -5.223  ...          0.000297    0.0924    0.686  150.091   \n",
       "\n",
       "        time_signature               artist_id  followers  \\\n",
       "0                    3  45tIt06XoI0Iio4LBEVpls       91.0   \n",
       "1                    4  45tIt06XoI0Iio4LBEVpls       91.0   \n",
       "2                    4  45tIt06XoI0Iio4LBEVpls       91.0   \n",
       "3                    5  45tIt06XoI0Iio4LBEVpls       91.0   \n",
       "4                    4  45tIt06XoI0Iio4LBEVpls       91.0   \n",
       "...                ...                     ...        ...   \n",
       "470033               4  5VGgFE9nPgMfEnYiPT5J2B      929.0   \n",
       "470034               4  7vgGpuiXdNlCmc994PlMlz       23.0   \n",
       "470035               3  4MxqhahGRT4BPz1PilXGeu       91.0   \n",
       "470036               4  1QLBXKM5GCpyQQSVMNZqrZ      896.0   \n",
       "470037               4  1dy5WNgIKQU6ezkpZs4y8z   245944.0   \n",
       "\n",
       "                                                   genres     artist_name  \\\n",
       "0                                                     NaN             Uli   \n",
       "1                                                     NaN             Uli   \n",
       "2                                                     NaN             Uli   \n",
       "3                                                     NaN             Uli   \n",
       "4                                                     NaN             Uli   \n",
       "...                                                   ...             ...   \n",
       "470033                                  chinese viral pop              芝麻   \n",
       "470034                               instrumental lullaby  Laureen Conrad   \n",
       "470035                               instrumental lullaby  Gregory Oberle   \n",
       "470036                                  chinese viral pop         阿YueYue   \n",
       "470037  alt z, alternative r&b, bedroom pop, indie caf...      ROLE MODEL   \n",
       "\n",
       "        artist_popularity  \n",
       "0                       4  \n",
       "1                       4  \n",
       "2                       4  \n",
       "3                       4  \n",
       "4                       4  \n",
       "...                   ...  \n",
       "470033                 36  \n",
       "470034                 52  \n",
       "470035                 55  \n",
       "470036                 38  \n",
       "470037                 67  \n",
       "\n",
       "[470038 rows x 23 columns]"
      ]
     },
     "execution_count": 3,
     "metadata": {},
     "output_type": "execute_result"
    }
   ],
   "source": [
    "df"
   ]
  },
  {
   "cell_type": "code",
   "execution_count": 8,
   "metadata": {},
   "outputs": [
    {
     "name": "stdout",
     "output_type": "stream",
     "text": [
      "<class 'pandas.core.frame.DataFrame'>\n",
      "Int64Index: 470038 entries, 0 to 470037\n",
      "Data columns (total 23 columns):\n",
      " #   Column             Non-Null Count   Dtype  \n",
      "---  ------             --------------   -----  \n",
      " 0   track_id           470038 non-null  object \n",
      " 1   track_name         470038 non-null  object \n",
      " 2   track_popularity   470038 non-null  int64  \n",
      " 3   duration_ms        470038 non-null  int64  \n",
      " 4   explicit           470038 non-null  int64  \n",
      " 5   release_date       470038 non-null  object \n",
      " 6   danceability       470038 non-null  float64\n",
      " 7   energy             470038 non-null  float64\n",
      " 8   key                470038 non-null  int64  \n",
      " 9   loudness           470038 non-null  float64\n",
      " 10  mode               470038 non-null  int64  \n",
      " 11  speechiness        470038 non-null  float64\n",
      " 12  acousticness       470038 non-null  float64\n",
      " 13  instrumentalness   470038 non-null  float64\n",
      " 14  liveness           470038 non-null  float64\n",
      " 15  valence            470038 non-null  float64\n",
      " 16  tempo              470038 non-null  float64\n",
      " 17  time_signature     470038 non-null  int64  \n",
      " 18  artist_id          470038 non-null  object \n",
      " 19  followers          470038 non-null  float64\n",
      " 20  genres             432228 non-null  object \n",
      " 21  artist_name        470038 non-null  object \n",
      " 22  artist_popularity  470038 non-null  int64  \n",
      "dtypes: float64(10), int64(7), object(6)\n",
      "memory usage: 86.1+ MB\n"
     ]
    }
   ],
   "source": [
    "df.info()"
   ]
  },
  {
   "cell_type": "code",
   "execution_count": 10,
   "metadata": {},
   "outputs": [],
   "source": [
    "x_cols = ['danceability', 'energy', 'loudness', 'key', 'mode',\n",
    "       'speechiness', 'acousticness', 'instrumentalness', 'liveness',\n",
    "       'valence', 'tempo', 'time_signature']"
   ]
  },
  {
   "cell_type": "markdown",
   "metadata": {},
   "source": [
    "Separating my columns into X and y so that I can run a train_test_split for the models I will use to predict track popularity."
   ]
  },
  {
   "cell_type": "code",
   "execution_count": 11,
   "metadata": {},
   "outputs": [],
   "source": [
    "X = df[x_cols]"
   ]
  },
  {
   "cell_type": "code",
   "execution_count": 12,
   "metadata": {},
   "outputs": [],
   "source": [
    "y = df['track_popularity'] >= 50"
   ]
  },
  {
   "cell_type": "markdown",
   "metadata": {},
   "source": [
    "The following code is from lesson 5."
   ]
  },
  {
   "cell_type": "code",
   "execution_count": 16,
   "metadata": {},
   "outputs": [],
   "source": [
    "X_train, X_test, y_train, y_test = train_test_split(X, y, test_size=.33, random_state=42)"
   ]
  },
  {
   "cell_type": "code",
   "execution_count": 17,
   "metadata": {},
   "outputs": [],
   "source": [
    "scaler=StandardScaler()\n",
    "\n",
    "scaler.fit(X_train)\n",
    "\n",
    "X_train_scaled = scaler.transform(X_train)\n",
    "X_test_scaled = scaler.transform(X_test)"
   ]
  },
  {
   "cell_type": "code",
   "execution_count": 22,
   "metadata": {},
   "outputs": [],
   "source": [
    "num_transformer = StandardScaler()"
   ]
  },
  {
   "cell_type": "code",
   "execution_count": 24,
   "metadata": {},
   "outputs": [],
   "source": [
    "preprocessor = ColumnTransformer([\n",
    "    ('nums', num_transformer, x_cols)\n",
    "])"
   ]
  },
  {
   "cell_type": "markdown",
   "metadata": {},
   "source": [
    "## Modeling Phase "
   ]
  },
  {
   "cell_type": "markdown",
   "metadata": {},
   "source": [
    "### Decision Tree"
   ]
  },
  {
   "cell_type": "markdown",
   "metadata": {},
   "source": [
    "The following code is from lesson 17. "
   ]
  },
  {
   "cell_type": "code",
   "execution_count": 25,
   "metadata": {},
   "outputs": [],
   "source": [
    "clf_dt = Pipeline(steps = [\n",
    "    ('preprocessor', preprocessor), \n",
    "    ('tree', DecisionTreeClassifier(random_state=42, max_depth=15))\n",
    "])\n",
    "\n",
    "clf_dt.fit(X_train[x_cols], y_train)\n",
    "\n",
    "train_preds = clf_dt.predict(X_train[x_cols])\n",
    "test_preds = clf_dt.predict(X_test[x_cols])\n",
    "\n",
    "train_probas = clf_dt.predict_proba(X_train[x_cols])[:,1]\n",
    "test_probas = clf_dt.predict_proba(X_test[x_cols])[:,1]"
   ]
  },
  {
   "cell_type": "code",
   "execution_count": 27,
   "metadata": {},
   "outputs": [
    {
     "data": {
      "text/plain": [
       "<sklearn.metrics._plot.confusion_matrix.ConfusionMatrixDisplay at 0x7f870114ba60>"
      ]
     },
     "execution_count": 27,
     "metadata": {},
     "output_type": "execute_result"
    },
    {
     "data": {
      "image/png": "[encoded data removed]",
      "text/plain": [
       "<Figure size 432x288 with 2 Axes>"
      ]
     },
     "metadata": {
      "needs_background": "light"
     },
     "output_type": "display_data"
    }
   ],
   "source": [
    "plot_confusion_matrix(clf_dt, X_test[x_cols], y_test)"
   ]
  },
  {
   "cell_type": "code",
   "execution_count": 29,
   "metadata": {},
   "outputs": [
    {
     "data": {
      "text/plain": [
       "<sklearn.metrics._plot.roc_curve.RocCurveDisplay at 0x7f870159d1f0>"
      ]
     },
     "execution_count": 29,
     "metadata": {},
     "output_type": "execute_result"
    },
    {
     "data": {
      "image/png": "[encoded data removed]",
      "text/plain": [
       "<Figure size 432x288 with 1 Axes>"
      ]
     },
     "metadata": {
      "needs_background": "light"
     },
     "output_type": "display_data"
    }
   ],
   "source": [
    "plot_roc_curve(clf_dt, X_test[x_cols], y_test)"
   ]
  },
  {
   "cell_type": "code",
   "execution_count": 30,
   "metadata": {},
   "outputs": [
    {
     "name": "stdout",
     "output_type": "stream",
     "text": [
      "Train F1: 0.3926\n",
      "Train Precision: 0.8063\n",
      "Train ROC-AUC: 0.6253\n",
      "Test F1: 0.1624\n",
      "Test Precision: 0.3220\n",
      "Test ROC-AUC: 0.5382\n"
     ]
    }
   ],
   "source": [
    "print(f\"Train F1: {f1_score(y_train, train_preds):.4f}\")\n",
    "print(f\"Train Precision: {precision_score(y_train, train_preds):.4f}\")\n",
    "print(f\"Train ROC-AUC: {roc_auc_score(y_train, train_preds):.4f}\")\n",
    "print(f\"Test F1: {f1_score(y_test, test_preds):.4f}\")\n",
    "print(f\"Test Precision: {precision_score(y_test, test_preds):.4f}\")\n",
    "print(f\"Test ROC-AUC: {roc_auc_score(y_test, test_preds):.4f}\")"
   ]
  },
  {
   "cell_type": "markdown",
   "metadata": {},
   "source": [
    "### Logistic Regression"
   ]
  },
  {
   "cell_type": "markdown",
   "metadata": {},
   "source": [
    "The following code is from lesson 17. "
   ]
  },
  {
   "cell_type": "code",
   "execution_count": 32,
   "metadata": {},
   "outputs": [
    {
     "data": {
      "text/plain": [
       "Pipeline(steps=[('preprocessor',\n",
       "                 ColumnTransformer(transformers=[('nums', StandardScaler(),\n",
       "                                                  ['danceability', 'energy',\n",
       "                                                   'loudness', 'key', 'mode',\n",
       "                                                   'speechiness',\n",
       "                                                   'acousticness',\n",
       "                                                   'instrumentalness',\n",
       "                                                   'liveness', 'valence',\n",
       "                                                   'tempo',\n",
       "                                                   'time_signature'])])),\n",
       "                ('logreg', LogisticRegression())])"
      ]
     },
     "execution_count": 32,
     "metadata": {},
     "output_type": "execute_result"
    }
   ],
   "source": [
    "clf_lr = Pipeline(steps=[\n",
    "    ('preprocessor', preprocessor), \n",
    "    ('logreg', LogisticRegression())\n",
    "])\n",
    "\n",
    "clf_lr.fit(X_train[x_cols], y_train)"
   ]
  },
  {
   "cell_type": "code",
   "execution_count": 34,
   "metadata": {},
   "outputs": [],
   "source": [
    "def evaluate(model, Xtr, Xte, ytr, yte):\n",
    "    train_preds = model.predict(Xtr)\n",
    "    test_preds = model.predict(Xte)\n",
    "\n",
    "    train_probas = model.predict_proba(Xtr)[:,1]\n",
    "    test_probas = model.predict_proba(Xte)[:,1]\n",
    "    \n",
    "    plot_confusion_matrix(model, Xte, yte)\n",
    "    \n",
    "    plot_roc_curve(model, Xte, yte)\n",
    "    \n",
    "    print(f\"Train F1: {f1_score(ytr, train_preds):.4f}\")\n",
    "    print(f\"Train Precision: {precision_score(ytr, train_preds):.4f}\")\n",
    "    print(f\"Train ROC-AUC: {roc_auc_score(ytr, train_preds):.4f}\")\n",
    "    print(f\"Test F1: {f1_score(yte, test_preds):.4f}\")\n",
    "    print(f\"Test Precision: {precision_score(yte, test_preds):.4f}\")\n",
    "    print(f\"Test ROC-AUC: {roc_auc_score(yte, test_preds):.4f}\")"
   ]
  },
  {
   "cell_type": "code",
   "execution_count": 37,
   "metadata": {},
   "outputs": [
    {
     "name": "stdout",
     "output_type": "stream",
     "text": [
      "Train F1: 0.0111\n",
      "Train Precision: 0.5477\n",
      "Train ROC-AUC: 0.5025\n",
      "Test F1: 0.0093\n",
      "Test Precision: 0.5590\n",
      "Test ROC-AUC: 0.5021\n"
     ]
    },
    {
     "data": {
      "image/png": "[encoded data removed]",
      "text/plain": [
       "<Figure size 432x288 with 2 Axes>"
      ]
     },
     "metadata": {
      "needs_background": "light"
     },
     "output_type": "display_data"
    },
    {
     "data": {
      "image/png": "[encoded data removed]",
      "text/plain": [
       "<Figure size 432x288 with 1 Axes>"
      ]
     },
     "metadata": {
      "needs_background": "light"
     },
     "output_type": "display_data"
    }
   ],
   "source": [
    "evaluate(clf_lr, X_train[x_cols], X_test[x_cols], y_train, y_test)"
   ]
  },
  {
   "cell_type": "markdown",
   "metadata": {},
   "source": [
    "### KNN Model"
   ]
  },
  {
   "cell_type": "markdown",
   "metadata": {},
   "source": [
    "The following code is from lesson 12. "
   ]
  },
  {
   "cell_type": "code",
   "execution_count": 38,
   "metadata": {},
   "outputs": [],
   "source": [
    "scaler = StandardScaler()\n",
    "scaler.fit(X_train)\n",
    "\n",
    "X_train_sc = scaler.transform(X_train)\n",
    "X_test_sc = scaler.transform(X_test)"
   ]
  },
  {
   "cell_type": "code",
   "execution_count": 41,
   "metadata": {},
   "outputs": [
    {
     "name": "stdout",
     "output_type": "stream",
     "text": [
      "Train Accuracy: 0.8908184488370247\n",
      "Test Accuracy: 0.8627194367976895\n"
     ]
    }
   ],
   "source": [
    "knn = KNeighborsClassifier(n_neighbors=5)\n",
    "\n",
    "knn.fit(X_train_sc, y_train)\n",
    "\n",
    "print(f\"Train Accuracy: {knn.score(X_train_sc, y_train)}\")\n",
    "print(f\"Test Accuracy: {knn.score(X_test_sc, y_test)}\")"
   ]
  },
  {
   "cell_type": "code",
   "execution_count": 42,
   "metadata": {},
   "outputs": [
    {
     "data": {
      "text/plain": [
       "<sklearn.metrics._plot.confusion_matrix.ConfusionMatrixDisplay at 0x7f8702bfe400>"
      ]
     },
     "execution_count": 42,
     "metadata": {},
     "output_type": "execute_result"
    },
    {
     "data": {
      "image/png": "[encoded data removed]",
      "text/plain": [
       "<Figure size 432x288 with 2 Axes>"
      ]
     },
     "metadata": {
      "needs_background": "light"
     },
     "output_type": "display_data"
    }
   ],
   "source": [
    "plot_confusion_matrix(knn, X_test[x_cols], y_test)"
   ]
  },
  {
   "cell_type": "code",
   "execution_count": 43,
   "metadata": {},
   "outputs": [
    {
     "data": {
      "text/plain": [
       "<sklearn.metrics._plot.roc_curve.RocCurveDisplay at 0x7f86ff6bca30>"
      ]
     },
     "execution_count": 43,
     "metadata": {},
     "output_type": "execute_result"
    },
    {
     "data": {
      "image/png": "[encoded data removed]",
      "text/plain": [
       "<Figure size 432x288 with 1 Axes>"
      ]
     },
     "metadata": {
      "needs_background": "light"
     },
     "output_type": "display_data"
    }
   ],
   "source": [
    "plot_roc_curve(knn, X_test[x_cols], y_test)"
   ]
  },
  {
   "cell_type": "markdown",
   "metadata": {},
   "source": [
    "With KNN being my best model in terms of Accuracy, I am going to continue to improve the KNN going forward in this project."
   ]
  },
  {
   "cell_type": "code",
   "execution_count": null,
   "metadata": {},
   "outputs": [],
   "source": []
  },
  {
   "cell_type": "code",
   "execution_count": null,
   "metadata": {},
   "outputs": [],
   "source": []
  },
  {
   "cell_type": "code",
   "execution_count": null,
   "metadata": {},
   "outputs": [],
   "source": []
  },
  {
   "cell_type": "code",
   "execution_count": null,
   "metadata": {},
   "outputs": [],
   "source": []
  },
  {
   "cell_type": "code",
   "execution_count": null,
   "metadata": {},
   "outputs": [],
   "source": []
  },
  {
   "cell_type": "code",
   "execution_count": null,
   "metadata": {},
   "outputs": [],
   "source": []
  },
  {
   "cell_type": "code",
   "execution_count": null,
   "metadata": {},
   "outputs": [],
   "source": []
  },
  {
   "cell_type": "code",
   "execution_count": null,
   "metadata": {},
   "outputs": [],
   "source": []
  }
 ],
 "metadata": {
  "kernelspec": {
   "display_name": "Python (learn-env)",
   "language": "python",
   "name": "learn-env"
  },
  "language_info": {
   "codemirror_mode": {
    "name": "ipython",
    "version": 3
   },
   "file_extension": ".py",
   "mimetype": "text/x-python",
   "name": "python",
   "nbconvert_exporter": "python",
   "pygments_lexer": "ipython3",
   "version": "3.8.5"
  }
 },
 "nbformat": 4,
 "nbformat_minor": 4
}
