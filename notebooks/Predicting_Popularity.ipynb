{
 "cells": [
  {
   "cell_type": "markdown",
   "metadata": {},
   "source": [
    "# Predicting Popularity "
   ]
  },
  {
   "cell_type": "markdown",
   "metadata": {},
   "source": [
    "## Business Understanding \n",
    "\n",
    "I have been hired by Apple Music to help improve their recommendation system and keep users engaged on their streaming service. Spotify, a competitor streaming service, has the best experience for the user when it comes to recommending songs and making playlists. \n",
    "\n",
    "Spotify leads the streaming platforms with over 400 million users and over 150 million premium subscirbers. Apple Music is at 88 million subscribers. With an improved recommendation system, I believe Apple Music can start to close the gap with Spotify.\n",
    "\n",
    "The best first step in creating my content based recommendation system is to find an easy target to predict on. The easiest target in this dataframe is track_popularity because it is numerical, it is calculated by Spotify, and it helps get passed the cold start problem where a user has no prior data collected on the songs they listen to. "
   ]
  },
  {
   "cell_type": "code",
   "execution_count": 3,
   "metadata": {},
   "outputs": [],
   "source": [
    "import pandas as pd \n",
    "import numpy as np \n",
    "import matplotlib.pyplot as plt\n",
    "import surprise\n",
    "import seaborn as sns\n",
    "\n",
    "from sklearn.preprocessing import StandardScaler\n",
    "from sklearn.model_selection import train_test_split\n",
    "from sklearn.tree import DecisionTreeClassifier\n",
    "from sklearn.metrics import f1_score, precision_score, roc_auc_score, plot_confusion_matrix, plot_roc_curve\n",
    "from sklearn.pipeline import Pipeline\n",
    "from sklearn.compose import ColumnTransformer\n",
    "from sklearn.preprocessing import OneHotEncoder, StandardScaler\n",
    "from sklearn.linear_model import LogisticRegression\n",
    "from sklearn.neighbors import KNeighborsClassifier\n",
    "import xgboost as xgb\n",
    "from xgboost import XGBClassifier\n",
    "from sklearn.model_selection import GridSearchCV"
   ]
  },
  {
   "cell_type": "code",
   "execution_count": 4,
   "metadata": {},
   "outputs": [],
   "source": [
    "pd.set_option('display.max_columns', 500)"
   ]
  },
  {
   "cell_type": "code",
   "execution_count": 5,
   "metadata": {},
   "outputs": [],
   "source": [
    "df = pd.read_csv('../data/final_df.csv', index_col=0)"
   ]
  },
  {
   "cell_type": "code",
   "execution_count": 6,
   "metadata": {},
   "outputs": [
    {
     "data": {
      "text/html": [
       "<div>\n",
       "<style scoped>\n",
       "    .dataframe tbody tr th:only-of-type {\n",
       "        vertical-align: middle;\n",
       "    }\n",
       "\n",
       "    .dataframe tbody tr th {\n",
       "        vertical-align: top;\n",
       "    }\n",
       "\n",
       "    .dataframe thead th {\n",
       "        text-align: right;\n",
       "    }\n",
       "</style>\n",
       "<table border=\"1\" class=\"dataframe\">\n",
       "  <thead>\n",
       "    <tr style=\"text-align: right;\">\n",
       "      <th></th>\n",
       "      <th>track_id</th>\n",
       "      <th>track_name</th>\n",
       "      <th>track_popularity</th>\n",
       "      <th>duration_ms</th>\n",
       "      <th>explicit</th>\n",
       "      <th>release_date</th>\n",
       "      <th>danceability</th>\n",
       "      <th>energy</th>\n",
       "      <th>key</th>\n",
       "      <th>loudness</th>\n",
       "      <th>mode</th>\n",
       "      <th>speechiness</th>\n",
       "      <th>acousticness</th>\n",
       "      <th>instrumentalness</th>\n",
       "      <th>liveness</th>\n",
       "      <th>valence</th>\n",
       "      <th>tempo</th>\n",
       "      <th>time_signature</th>\n",
       "      <th>artist_id</th>\n",
       "      <th>followers</th>\n",
       "      <th>genres</th>\n",
       "      <th>artist_name</th>\n",
       "      <th>artist_popularity</th>\n",
       "    </tr>\n",
       "  </thead>\n",
       "  <tbody>\n",
       "    <tr>\n",
       "      <th>0</th>\n",
       "      <td>35iwgR4jXetI318WEWsa1Q</td>\n",
       "      <td>Carve</td>\n",
       "      <td>6</td>\n",
       "      <td>126903</td>\n",
       "      <td>0</td>\n",
       "      <td>1922-02-22</td>\n",
       "      <td>0.645</td>\n",
       "      <td>0.44500</td>\n",
       "      <td>0</td>\n",
       "      <td>-13.338</td>\n",
       "      <td>1</td>\n",
       "      <td>0.4510</td>\n",
       "      <td>0.674</td>\n",
       "      <td>0.744000</td>\n",
       "      <td>0.1510</td>\n",
       "      <td>0.127</td>\n",
       "      <td>104.851</td>\n",
       "      <td>3</td>\n",
       "      <td>45tIt06XoI0Iio4LBEVpls</td>\n",
       "      <td>91.0</td>\n",
       "      <td>NaN</td>\n",
       "      <td>Uli</td>\n",
       "      <td>4</td>\n",
       "    </tr>\n",
       "    <tr>\n",
       "      <th>1</th>\n",
       "      <td>0PH9AACae1f957JAavhOl2</td>\n",
       "      <td>Lazy Boi</td>\n",
       "      <td>0</td>\n",
       "      <td>157333</td>\n",
       "      <td>0</td>\n",
       "      <td>1922-02-22</td>\n",
       "      <td>0.298</td>\n",
       "      <td>0.46000</td>\n",
       "      <td>1</td>\n",
       "      <td>-18.645</td>\n",
       "      <td>1</td>\n",
       "      <td>0.4530</td>\n",
       "      <td>0.521</td>\n",
       "      <td>0.856000</td>\n",
       "      <td>0.4360</td>\n",
       "      <td>0.402</td>\n",
       "      <td>87.921</td>\n",
       "      <td>4</td>\n",
       "      <td>45tIt06XoI0Iio4LBEVpls</td>\n",
       "      <td>91.0</td>\n",
       "      <td>NaN</td>\n",
       "      <td>Uli</td>\n",
       "      <td>4</td>\n",
       "    </tr>\n",
       "    <tr>\n",
       "      <th>2</th>\n",
       "      <td>2SiNuAZ6jIU9xhClRKXcST</td>\n",
       "      <td>Sketch</td>\n",
       "      <td>0</td>\n",
       "      <td>87040</td>\n",
       "      <td>0</td>\n",
       "      <td>1922-02-22</td>\n",
       "      <td>0.634</td>\n",
       "      <td>0.00399</td>\n",
       "      <td>5</td>\n",
       "      <td>-29.973</td>\n",
       "      <td>0</td>\n",
       "      <td>0.0377</td>\n",
       "      <td>0.926</td>\n",
       "      <td>0.919000</td>\n",
       "      <td>0.1050</td>\n",
       "      <td>0.396</td>\n",
       "      <td>79.895</td>\n",
       "      <td>4</td>\n",
       "      <td>45tIt06XoI0Iio4LBEVpls</td>\n",
       "      <td>91.0</td>\n",
       "      <td>NaN</td>\n",
       "      <td>Uli</td>\n",
       "      <td>4</td>\n",
       "    </tr>\n",
       "    <tr>\n",
       "      <th>3</th>\n",
       "      <td>4vV7uBcF2AnjNTOejBS5oL</td>\n",
       "      <td>L'enfer</td>\n",
       "      <td>0</td>\n",
       "      <td>40000</td>\n",
       "      <td>0</td>\n",
       "      <td>1922-02-22</td>\n",
       "      <td>0.657</td>\n",
       "      <td>0.32500</td>\n",
       "      <td>10</td>\n",
       "      <td>-14.319</td>\n",
       "      <td>0</td>\n",
       "      <td>0.2540</td>\n",
       "      <td>0.199</td>\n",
       "      <td>0.856000</td>\n",
       "      <td>0.0931</td>\n",
       "      <td>0.105</td>\n",
       "      <td>81.944</td>\n",
       "      <td>5</td>\n",
       "      <td>45tIt06XoI0Iio4LBEVpls</td>\n",
       "      <td>91.0</td>\n",
       "      <td>NaN</td>\n",
       "      <td>Uli</td>\n",
       "      <td>4</td>\n",
       "    </tr>\n",
       "    <tr>\n",
       "      <th>4</th>\n",
       "      <td>598LlBn6jpEpVbLjmZPsYV</td>\n",
       "      <td>Graphite</td>\n",
       "      <td>0</td>\n",
       "      <td>104400</td>\n",
       "      <td>0</td>\n",
       "      <td>1922-02-22</td>\n",
       "      <td>0.644</td>\n",
       "      <td>0.68400</td>\n",
       "      <td>7</td>\n",
       "      <td>-8.247</td>\n",
       "      <td>1</td>\n",
       "      <td>0.1990</td>\n",
       "      <td>0.144</td>\n",
       "      <td>0.802000</td>\n",
       "      <td>0.0847</td>\n",
       "      <td>0.138</td>\n",
       "      <td>100.031</td>\n",
       "      <td>4</td>\n",
       "      <td>45tIt06XoI0Iio4LBEVpls</td>\n",
       "      <td>91.0</td>\n",
       "      <td>NaN</td>\n",
       "      <td>Uli</td>\n",
       "      <td>4</td>\n",
       "    </tr>\n",
       "    <tr>\n",
       "      <th>...</th>\n",
       "      <td>...</td>\n",
       "      <td>...</td>\n",
       "      <td>...</td>\n",
       "      <td>...</td>\n",
       "      <td>...</td>\n",
       "      <td>...</td>\n",
       "      <td>...</td>\n",
       "      <td>...</td>\n",
       "      <td>...</td>\n",
       "      <td>...</td>\n",
       "      <td>...</td>\n",
       "      <td>...</td>\n",
       "      <td>...</td>\n",
       "      <td>...</td>\n",
       "      <td>...</td>\n",
       "      <td>...</td>\n",
       "      <td>...</td>\n",
       "      <td>...</td>\n",
       "      <td>...</td>\n",
       "      <td>...</td>\n",
       "      <td>...</td>\n",
       "      <td>...</td>\n",
       "      <td>...</td>\n",
       "    </tr>\n",
       "    <tr>\n",
       "      <th>470033</th>\n",
       "      <td>0MmaEacabpK8Yp3Mdeo5uY</td>\n",
       "      <td>下雨天</td>\n",
       "      <td>50</td>\n",
       "      <td>265846</td>\n",
       "      <td>0</td>\n",
       "      <td>2020-02-25</td>\n",
       "      <td>0.528</td>\n",
       "      <td>0.67300</td>\n",
       "      <td>4</td>\n",
       "      <td>-3.639</td>\n",
       "      <td>1</td>\n",
       "      <td>0.0314</td>\n",
       "      <td>0.143</td>\n",
       "      <td>0.000000</td>\n",
       "      <td>0.0989</td>\n",
       "      <td>0.297</td>\n",
       "      <td>130.066</td>\n",
       "      <td>4</td>\n",
       "      <td>5VGgFE9nPgMfEnYiPT5J2B</td>\n",
       "      <td>929.0</td>\n",
       "      <td>chinese viral pop</td>\n",
       "      <td>芝麻</td>\n",
       "      <td>36</td>\n",
       "    </tr>\n",
       "    <tr>\n",
       "      <th>470034</th>\n",
       "      <td>1dKxf4Ht2SsKLyXfSDJAgy</td>\n",
       "      <td>The Cutest Puppy</td>\n",
       "      <td>67</td>\n",
       "      <td>82500</td>\n",
       "      <td>0</td>\n",
       "      <td>2020-10-30</td>\n",
       "      <td>0.609</td>\n",
       "      <td>0.01720</td>\n",
       "      <td>8</td>\n",
       "      <td>-28.573</td>\n",
       "      <td>1</td>\n",
       "      <td>0.1180</td>\n",
       "      <td>0.996</td>\n",
       "      <td>0.973000</td>\n",
       "      <td>0.1080</td>\n",
       "      <td>0.890</td>\n",
       "      <td>68.619</td>\n",
       "      <td>4</td>\n",
       "      <td>7vgGpuiXdNlCmc994PlMlz</td>\n",
       "      <td>23.0</td>\n",
       "      <td>instrumental lullaby</td>\n",
       "      <td>Laureen Conrad</td>\n",
       "      <td>52</td>\n",
       "    </tr>\n",
       "    <tr>\n",
       "      <th>470035</th>\n",
       "      <td>0SjsIzJkZfDU7wlcdklEFR</td>\n",
       "      <td>John Brown's Song</td>\n",
       "      <td>66</td>\n",
       "      <td>185250</td>\n",
       "      <td>0</td>\n",
       "      <td>2020-03-20</td>\n",
       "      <td>0.562</td>\n",
       "      <td>0.03310</td>\n",
       "      <td>1</td>\n",
       "      <td>-25.551</td>\n",
       "      <td>1</td>\n",
       "      <td>0.1030</td>\n",
       "      <td>0.996</td>\n",
       "      <td>0.961000</td>\n",
       "      <td>0.1110</td>\n",
       "      <td>0.386</td>\n",
       "      <td>63.696</td>\n",
       "      <td>3</td>\n",
       "      <td>4MxqhahGRT4BPz1PilXGeu</td>\n",
       "      <td>91.0</td>\n",
       "      <td>instrumental lullaby</td>\n",
       "      <td>Gregory Oberle</td>\n",
       "      <td>55</td>\n",
       "    </tr>\n",
       "    <tr>\n",
       "      <th>470036</th>\n",
       "      <td>5rgu12WBIHQtvej2MdHSH0</td>\n",
       "      <td>云与海</td>\n",
       "      <td>50</td>\n",
       "      <td>258267</td>\n",
       "      <td>0</td>\n",
       "      <td>2020-09-26</td>\n",
       "      <td>0.560</td>\n",
       "      <td>0.51800</td>\n",
       "      <td>0</td>\n",
       "      <td>-7.471</td>\n",
       "      <td>0</td>\n",
       "      <td>0.0292</td>\n",
       "      <td>0.785</td>\n",
       "      <td>0.000000</td>\n",
       "      <td>0.0648</td>\n",
       "      <td>0.211</td>\n",
       "      <td>131.896</td>\n",
       "      <td>4</td>\n",
       "      <td>1QLBXKM5GCpyQQSVMNZqrZ</td>\n",
       "      <td>896.0</td>\n",
       "      <td>chinese viral pop</td>\n",
       "      <td>阿YueYue</td>\n",
       "      <td>38</td>\n",
       "    </tr>\n",
       "    <tr>\n",
       "      <th>470037</th>\n",
       "      <td>0NuWgxEp51CutD2pJoF4OM</td>\n",
       "      <td>blind</td>\n",
       "      <td>72</td>\n",
       "      <td>153293</td>\n",
       "      <td>0</td>\n",
       "      <td>2020-10-21</td>\n",
       "      <td>0.765</td>\n",
       "      <td>0.66300</td>\n",
       "      <td>0</td>\n",
       "      <td>-5.223</td>\n",
       "      <td>1</td>\n",
       "      <td>0.0652</td>\n",
       "      <td>0.141</td>\n",
       "      <td>0.000297</td>\n",
       "      <td>0.0924</td>\n",
       "      <td>0.686</td>\n",
       "      <td>150.091</td>\n",
       "      <td>4</td>\n",
       "      <td>1dy5WNgIKQU6ezkpZs4y8z</td>\n",
       "      <td>245944.0</td>\n",
       "      <td>alt z, alternative r&amp;b, bedroom pop, indie caf...</td>\n",
       "      <td>ROLE MODEL</td>\n",
       "      <td>67</td>\n",
       "    </tr>\n",
       "  </tbody>\n",
       "</table>\n",
       "<p>470038 rows × 23 columns</p>\n",
       "</div>"
      ],
      "text/plain": [
       "                      track_id         track_name  track_popularity  \\\n",
       "0       35iwgR4jXetI318WEWsa1Q              Carve                 6   \n",
       "1       0PH9AACae1f957JAavhOl2           Lazy Boi                 0   \n",
       "2       2SiNuAZ6jIU9xhClRKXcST             Sketch                 0   \n",
       "3       4vV7uBcF2AnjNTOejBS5oL            L'enfer                 0   \n",
       "4       598LlBn6jpEpVbLjmZPsYV           Graphite                 0   \n",
       "...                        ...                ...               ...   \n",
       "470033  0MmaEacabpK8Yp3Mdeo5uY                下雨天                50   \n",
       "470034  1dKxf4Ht2SsKLyXfSDJAgy   The Cutest Puppy                67   \n",
       "470035  0SjsIzJkZfDU7wlcdklEFR  John Brown's Song                66   \n",
       "470036  5rgu12WBIHQtvej2MdHSH0                云与海                50   \n",
       "470037  0NuWgxEp51CutD2pJoF4OM              blind                72   \n",
       "\n",
       "        duration_ms  explicit release_date  danceability   energy  key  \\\n",
       "0            126903         0   1922-02-22         0.645  0.44500    0   \n",
       "1            157333         0   1922-02-22         0.298  0.46000    1   \n",
       "2             87040         0   1922-02-22         0.634  0.00399    5   \n",
       "3             40000         0   1922-02-22         0.657  0.32500   10   \n",
       "4            104400         0   1922-02-22         0.644  0.68400    7   \n",
       "...             ...       ...          ...           ...      ...  ...   \n",
       "470033       265846         0   2020-02-25         0.528  0.67300    4   \n",
       "470034        82500         0   2020-10-30         0.609  0.01720    8   \n",
       "470035       185250         0   2020-03-20         0.562  0.03310    1   \n",
       "470036       258267         0   2020-09-26         0.560  0.51800    0   \n",
       "470037       153293         0   2020-10-21         0.765  0.66300    0   \n",
       "\n",
       "        loudness  mode  speechiness  acousticness  instrumentalness  liveness  \\\n",
       "0        -13.338     1       0.4510         0.674          0.744000    0.1510   \n",
       "1        -18.645     1       0.4530         0.521          0.856000    0.4360   \n",
       "2        -29.973     0       0.0377         0.926          0.919000    0.1050   \n",
       "3        -14.319     0       0.2540         0.199          0.856000    0.0931   \n",
       "4         -8.247     1       0.1990         0.144          0.802000    0.0847   \n",
       "...          ...   ...          ...           ...               ...       ...   \n",
       "470033    -3.639     1       0.0314         0.143          0.000000    0.0989   \n",
       "470034   -28.573     1       0.1180         0.996          0.973000    0.1080   \n",
       "470035   -25.551     1       0.1030         0.996          0.961000    0.1110   \n",
       "470036    -7.471     0       0.0292         0.785          0.000000    0.0648   \n",
       "470037    -5.223     1       0.0652         0.141          0.000297    0.0924   \n",
       "\n",
       "        valence    tempo  time_signature               artist_id  followers  \\\n",
       "0         0.127  104.851               3  45tIt06XoI0Iio4LBEVpls       91.0   \n",
       "1         0.402   87.921               4  45tIt06XoI0Iio4LBEVpls       91.0   \n",
       "2         0.396   79.895               4  45tIt06XoI0Iio4LBEVpls       91.0   \n",
       "3         0.105   81.944               5  45tIt06XoI0Iio4LBEVpls       91.0   \n",
       "4         0.138  100.031               4  45tIt06XoI0Iio4LBEVpls       91.0   \n",
       "...         ...      ...             ...                     ...        ...   \n",
       "470033    0.297  130.066               4  5VGgFE9nPgMfEnYiPT5J2B      929.0   \n",
       "470034    0.890   68.619               4  7vgGpuiXdNlCmc994PlMlz       23.0   \n",
       "470035    0.386   63.696               3  4MxqhahGRT4BPz1PilXGeu       91.0   \n",
       "470036    0.211  131.896               4  1QLBXKM5GCpyQQSVMNZqrZ      896.0   \n",
       "470037    0.686  150.091               4  1dy5WNgIKQU6ezkpZs4y8z   245944.0   \n",
       "\n",
       "                                                   genres     artist_name  \\\n",
       "0                                                     NaN             Uli   \n",
       "1                                                     NaN             Uli   \n",
       "2                                                     NaN             Uli   \n",
       "3                                                     NaN             Uli   \n",
       "4                                                     NaN             Uli   \n",
       "...                                                   ...             ...   \n",
       "470033                                  chinese viral pop              芝麻   \n",
       "470034                               instrumental lullaby  Laureen Conrad   \n",
       "470035                               instrumental lullaby  Gregory Oberle   \n",
       "470036                                  chinese viral pop         阿YueYue   \n",
       "470037  alt z, alternative r&b, bedroom pop, indie caf...      ROLE MODEL   \n",
       "\n",
       "        artist_popularity  \n",
       "0                       4  \n",
       "1                       4  \n",
       "2                       4  \n",
       "3                       4  \n",
       "4                       4  \n",
       "...                   ...  \n",
       "470033                 36  \n",
       "470034                 52  \n",
       "470035                 55  \n",
       "470036                 38  \n",
       "470037                 67  \n",
       "\n",
       "[470038 rows x 23 columns]"
      ]
     },
     "execution_count": 6,
     "metadata": {},
     "output_type": "execute_result"
    }
   ],
   "source": [
    "df"
   ]
  },
  {
   "cell_type": "code",
   "execution_count": 7,
   "metadata": {},
   "outputs": [
    {
     "name": "stdout",
     "output_type": "stream",
     "text": [
      "<class 'pandas.core.frame.DataFrame'>\n",
      "Int64Index: 470038 entries, 0 to 470037\n",
      "Data columns (total 23 columns):\n",
      " #   Column             Non-Null Count   Dtype  \n",
      "---  ------             --------------   -----  \n",
      " 0   track_id           470038 non-null  object \n",
      " 1   track_name         470038 non-null  object \n",
      " 2   track_popularity   470038 non-null  int64  \n",
      " 3   duration_ms        470038 non-null  int64  \n",
      " 4   explicit           470038 non-null  int64  \n",
      " 5   release_date       470038 non-null  object \n",
      " 6   danceability       470038 non-null  float64\n",
      " 7   energy             470038 non-null  float64\n",
      " 8   key                470038 non-null  int64  \n",
      " 9   loudness           470038 non-null  float64\n",
      " 10  mode               470038 non-null  int64  \n",
      " 11  speechiness        470038 non-null  float64\n",
      " 12  acousticness       470038 non-null  float64\n",
      " 13  instrumentalness   470038 non-null  float64\n",
      " 14  liveness           470038 non-null  float64\n",
      " 15  valence            470038 non-null  float64\n",
      " 16  tempo              470038 non-null  float64\n",
      " 17  time_signature     470038 non-null  int64  \n",
      " 18  artist_id          470038 non-null  object \n",
      " 19  followers          470038 non-null  float64\n",
      " 20  genres             432228 non-null  object \n",
      " 21  artist_name        470038 non-null  object \n",
      " 22  artist_popularity  470038 non-null  int64  \n",
      "dtypes: float64(10), int64(7), object(6)\n",
      "memory usage: 86.1+ MB\n"
     ]
    }
   ],
   "source": [
    "df.info()"
   ]
  },
  {
   "cell_type": "markdown",
   "metadata": {},
   "source": [
    "Checking for null values."
   ]
  },
  {
   "cell_type": "code",
   "execution_count": 8,
   "metadata": {},
   "outputs": [
    {
     "data": {
      "text/plain": [
       "track_id                 0\n",
       "track_name               0\n",
       "track_popularity         0\n",
       "duration_ms              0\n",
       "explicit                 0\n",
       "release_date             0\n",
       "danceability             0\n",
       "energy                   0\n",
       "key                      0\n",
       "loudness                 0\n",
       "mode                     0\n",
       "speechiness              0\n",
       "acousticness             0\n",
       "instrumentalness         0\n",
       "liveness                 0\n",
       "valence                  0\n",
       "tempo                    0\n",
       "time_signature           0\n",
       "artist_id                0\n",
       "followers                0\n",
       "genres               37810\n",
       "artist_name              0\n",
       "artist_popularity        0\n",
       "dtype: int64"
      ]
     },
     "execution_count": 8,
     "metadata": {},
     "output_type": "execute_result"
    }
   ],
   "source": [
    "df.isna().sum()"
   ]
  },
  {
   "cell_type": "code",
   "execution_count": 9,
   "metadata": {},
   "outputs": [],
   "source": [
    "df = df.dropna(subset=['genres'])"
   ]
  },
  {
   "cell_type": "code",
   "execution_count": 10,
   "metadata": {},
   "outputs": [
    {
     "data": {
      "text/plain": [
       "track_id             0\n",
       "track_name           0\n",
       "track_popularity     0\n",
       "duration_ms          0\n",
       "explicit             0\n",
       "release_date         0\n",
       "danceability         0\n",
       "energy               0\n",
       "key                  0\n",
       "loudness             0\n",
       "mode                 0\n",
       "speechiness          0\n",
       "acousticness         0\n",
       "instrumentalness     0\n",
       "liveness             0\n",
       "valence              0\n",
       "tempo                0\n",
       "time_signature       0\n",
       "artist_id            0\n",
       "followers            0\n",
       "genres               0\n",
       "artist_name          0\n",
       "artist_popularity    0\n",
       "dtype: int64"
      ]
     },
     "execution_count": 10,
     "metadata": {},
     "output_type": "execute_result"
    }
   ],
   "source": [
    "df.isna().sum()"
   ]
  },
  {
   "cell_type": "markdown",
   "metadata": {},
   "source": [
    "Creating a variable with only numeric data so that it is easier to run through a model."
   ]
  },
  {
   "cell_type": "code",
   "execution_count": 11,
   "metadata": {},
   "outputs": [],
   "source": [
    "x_cols = ['danceability', 'energy', 'loudness', 'key', 'mode',\n",
    "       'speechiness', 'acousticness', 'instrumentalness', 'liveness',\n",
    "       'valence', 'tempo', 'time_signature']"
   ]
  },
  {
   "cell_type": "markdown",
   "metadata": {},
   "source": [
    "Separating my columns into X and y so that I can run a train_test_split for the models I will use to predict track popularity."
   ]
  },
  {
   "cell_type": "code",
   "execution_count": 12,
   "metadata": {},
   "outputs": [],
   "source": [
    "X = df[x_cols]"
   ]
  },
  {
   "cell_type": "markdown",
   "metadata": {},
   "source": [
    "I set my target variable to be popular songs that are ranked 30 or higher because those tracks make up around 45% of my data frame."
   ]
  },
  {
   "cell_type": "code",
   "execution_count": 13,
   "metadata": {},
   "outputs": [
    {
     "data": {
      "text/plain": [
       "0.47593399779745876"
      ]
     },
     "execution_count": 13,
     "metadata": {},
     "output_type": "execute_result"
    }
   ],
   "source": [
    "len(df[df['track_popularity'] > 30]) / len(df)"
   ]
  },
  {
   "cell_type": "code",
   "execution_count": 14,
   "metadata": {},
   "outputs": [],
   "source": [
    "y = df['track_popularity'] >= 30"
   ]
  },
  {
   "cell_type": "markdown",
   "metadata": {},
   "source": [
    "The following code is from lesson 5."
   ]
  },
  {
   "cell_type": "code",
   "execution_count": 15,
   "metadata": {},
   "outputs": [],
   "source": [
    "X_train, X_test, y_train, y_test = train_test_split(X, y, test_size=.33, random_state=42)"
   ]
  },
  {
   "cell_type": "code",
   "execution_count": 16,
   "metadata": {},
   "outputs": [
    {
     "data": {
      "text/plain": [
       "False    0.505263\n",
       "True     0.494737\n",
       "Name: track_popularity, dtype: float64"
      ]
     },
     "execution_count": 16,
     "metadata": {},
     "output_type": "execute_result"
    }
   ],
   "source": [
    "y_train.value_counts(normalize=True)"
   ]
  },
  {
   "cell_type": "code",
   "execution_count": 17,
   "metadata": {},
   "outputs": [],
   "source": [
    "scaler=StandardScaler()\n",
    "\n",
    "scaler.fit(X_train)\n",
    "\n",
    "X_train_scaled = scaler.transform(X_train)\n",
    "X_test_scaled = scaler.transform(X_test)"
   ]
  },
  {
   "cell_type": "code",
   "execution_count": 18,
   "metadata": {},
   "outputs": [],
   "source": [
    "num_transformer = StandardScaler()"
   ]
  },
  {
   "cell_type": "code",
   "execution_count": 19,
   "metadata": {},
   "outputs": [],
   "source": [
    "preprocessor = ColumnTransformer([\n",
    "    ('nums', num_transformer, x_cols)\n",
    "])"
   ]
  },
  {
   "cell_type": "markdown",
   "metadata": {},
   "source": [
    "## Modeling Phase "
   ]
  },
  {
   "cell_type": "markdown",
   "metadata": {},
   "source": [
    "Before I run my models and plot my confusion matrices, I want to establish what a true positive, true negative, false positive, and false negative are in this business understanding. \n",
    "\n",
    "True positive: My model correctly predicts a song is popular. \n",
    "\n",
    "True negative: My model correctly predicts a song is not popular. \n",
    "\n",
    "False positive: My model predicts a song is popular when it is not. \n",
    "\n",
    "False negative: My model predicts a song is not popular when it is. \n",
    "\n",
    "I want to reduce false positives when a user is being recommended songs because I want to make sure they are listening to popular songs and stay engaged on Apple Music."
   ]
  },
  {
   "cell_type": "code",
   "execution_count": 20,
   "metadata": {},
   "outputs": [],
   "source": [
    "def evaluate(model, Xtr, Xte, ytr, yte):\n",
    "    train_preds = model.predict(Xtr)\n",
    "    test_preds = model.predict(Xte)\n",
    "\n",
    "    train_probas = model.predict_proba(Xtr)[:,1]\n",
    "    test_probas = model.predict_proba(Xte)[:,1]\n",
    "    \n",
    "    plot_confusion_matrix(model, Xte, yte)\n",
    "    \n",
    "    plot_roc_curve(model, Xte, yte)\n",
    "    \n",
    "    print(f\"Train F1: {f1_score(ytr, train_preds):.4f}\")\n",
    "    print(f\"Train Precision: {precision_score(ytr, train_preds):.4f}\")\n",
    "    print(f\"Train ROC-AUC: {roc_auc_score(ytr, train_preds):.4f}\")\n",
    "    print(f\"Test F1: {f1_score(yte, test_preds):.4f}\")\n",
    "    print(f\"Test Precision: {precision_score(yte, test_preds):.4f}\")\n",
    "    print(f\"Test ROC-AUC: {roc_auc_score(yte, test_preds):.4f}\")"
   ]
  },
  {
   "cell_type": "markdown",
   "metadata": {},
   "source": [
    "Created a function to make it easier to show evaluations for models."
   ]
  },
  {
   "cell_type": "markdown",
   "metadata": {},
   "source": [
    "## Decision Tree"
   ]
  },
  {
   "cell_type": "markdown",
   "metadata": {},
   "source": [
    "I chose to run a decision tree model because of its easy interpretability, its use for making predictions, easy visualization, and quicker than other predictive models such as KNN."
   ]
  },
  {
   "cell_type": "markdown",
   "metadata": {},
   "source": [
    "The following code is from lesson 17. "
   ]
  },
  {
   "cell_type": "code",
   "execution_count": 32,
   "metadata": {},
   "outputs": [],
   "source": [
    "clf_dt = Pipeline(steps = [\n",
    "    ('preprocessor', preprocessor), \n",
    "    ('tree', DecisionTreeClassifier(random_state=42, max_depth=15))\n",
    "])\n",
    "\n",
    "clf_dt.fit(X_train[x_cols], y_train)\n",
    "\n",
    "train_preds = clf_dt.predict(X_train[x_cols])\n",
    "test_preds = clf_dt.predict(X_test[x_cols])\n",
    "\n",
    "train_probas = clf_dt.predict_proba(X_train[x_cols])[:,1]\n",
    "test_probas = clf_dt.predict_proba(X_test[x_cols])[:,1]"
   ]
  },
  {
   "cell_type": "code",
   "execution_count": 33,
   "metadata": {},
   "outputs": [
    {
     "name": "stdout",
     "output_type": "stream",
     "text": [
      "Train Score: 0.7428658250227906\n",
      "Test Score: 0.6397683614234836\n"
     ]
    }
   ],
   "source": [
    "print(f\"Train Score: {clf_dt.score(X_train, y_train)}\")\n",
    "print(f\"Test Score: {clf_dt.score(X_test, y_test)}\")"
   ]
  },
  {
   "cell_type": "code",
   "execution_count": 28,
   "metadata": {},
   "outputs": [
    {
     "name": "stdout",
     "output_type": "stream",
     "text": [
      "Train F1: 0.7407\n",
      "Train Precision: 0.7390\n",
      "Train ROC-AUC: 0.7429\n",
      "Test F1: 0.6382\n",
      "Test Precision: 0.6376\n",
      "Test ROC-AUC: 0.6398\n"
     ]
    },
    {
     "data": {
      "image/png": "[encoded data removed]",
      "text/plain": [
       "<Figure size 432x288 with 2 Axes>"
      ]
     },
     "metadata": {
      "needs_background": "light"
     },
     "output_type": "display_data"
    },
    {
     "data": {
      "image/png": "[encoded data removed]",
      "text/plain": [
       "<Figure size 432x288 with 1 Axes>"
      ]
     },
     "metadata": {
      "needs_background": "light"
     },
     "output_type": "display_data"
    }
   ],
   "source": [
    "evaluate(clf_dt, X_train, X_test, y_train, y_test)"
   ]
  },
  {
   "cell_type": "markdown",
   "metadata": {},
   "source": [
    "## Logistic Regression"
   ]
  },
  {
   "cell_type": "markdown",
   "metadata": {},
   "source": [
    "I chose to run a Logistic Regression model because of its interpretability and its lack of need for tuning. "
   ]
  },
  {
   "cell_type": "markdown",
   "metadata": {},
   "source": [
    "The following code is from lesson 17. "
   ]
  },
  {
   "cell_type": "code",
   "execution_count": 30,
   "metadata": {},
   "outputs": [
    {
     "data": {
      "text/plain": [
       "Pipeline(steps=[('preprocessor',\n",
       "                 ColumnTransformer(transformers=[('nums', StandardScaler(),\n",
       "                                                  ['danceability', 'energy',\n",
       "                                                   'loudness', 'key', 'mode',\n",
       "                                                   'speechiness',\n",
       "                                                   'acousticness',\n",
       "                                                   'instrumentalness',\n",
       "                                                   'liveness', 'valence',\n",
       "                                                   'tempo',\n",
       "                                                   'time_signature'])])),\n",
       "                ('logreg', LogisticRegression())])"
      ]
     },
     "execution_count": 30,
     "metadata": {},
     "output_type": "execute_result"
    }
   ],
   "source": [
    "clf_lr = Pipeline(steps=[\n",
    "    ('preprocessor', preprocessor), \n",
    "    ('logreg', LogisticRegression())\n",
    "])\n",
    "\n",
    "clf_lr.fit(X_train[x_cols], y_train)"
   ]
  },
  {
   "cell_type": "code",
   "execution_count": 31,
   "metadata": {},
   "outputs": [
    {
     "name": "stdout",
     "output_type": "stream",
     "text": [
      "Train Score: 0.650059393905909\n",
      "Test Score: 0.6481533413724445\n"
     ]
    }
   ],
   "source": [
    "print(f\"Train Score: {clf_lr.score(X_train, y_train)}\")\n",
    "print(f\"Test Score: {clf_lr.score(X_test, y_test)}\")"
   ]
  },
  {
   "cell_type": "code",
   "execution_count": 24,
   "metadata": {},
   "outputs": [
    {
     "name": "stdout",
     "output_type": "stream",
     "text": [
      "Train F1: 0.6530\n",
      "Train Precision: 0.6409\n",
      "Train ROC-AUC: 0.6502\n",
      "Test F1: 0.6520\n",
      "Test Precision: 0.6416\n",
      "Test ROC-AUC: 0.6482\n"
     ]
    },
    {
     "data": {
      "image/png": "[encoded data removed]",
      "text/plain": [
       "<Figure size 432x288 with 2 Axes>"
      ]
     },
     "metadata": {
      "needs_background": "light"
     },
     "output_type": "display_data"
    },
    {
     "data": {
      "image/png": "[encoded data removed]",
      "text/plain": [
       "<Figure size 432x288 with 1 Axes>"
      ]
     },
     "metadata": {
      "needs_background": "light"
     },
     "output_type": "display_data"
    }
   ],
   "source": [
    "evaluate(clf_lr, X_train[x_cols], X_test[x_cols], y_train, y_test)"
   ]
  },
  {
   "cell_type": "markdown",
   "metadata": {},
   "source": [
    "## XGBoost Model"
   ]
  },
  {
   "cell_type": "markdown",
   "metadata": {},
   "source": [
    "I chose XGBoost model because it does a good job of handling large data frames and can handle missing data. "
   ]
  },
  {
   "cell_type": "code",
   "execution_count": 21,
   "metadata": {},
   "outputs": [
    {
     "data": {
      "text/plain": [
       "Pipeline(steps=[('preprocessor',\n",
       "                 ColumnTransformer(transformers=[('nums', StandardScaler(),\n",
       "                                                  ['danceability', 'energy',\n",
       "                                                   'loudness', 'key', 'mode',\n",
       "                                                   'speechiness',\n",
       "                                                   'acousticness',\n",
       "                                                   'instrumentalness',\n",
       "                                                   'liveness', 'valence',\n",
       "                                                   'tempo',\n",
       "                                                   'time_signature'])])),\n",
       "                ('XGBoost',\n",
       "                 XGBClassifier(base_score=0.5, booster='gbtree',\n",
       "                               colsample_bylevel=1, colsample_bynode=1,\n",
       "                               colsample_bytree=...amma=0, gpu_id=-1,\n",
       "                               importance_type='gain',\n",
       "                               interaction_constraints='', learning_rate=0.25,\n",
       "                               max_delta_step=0, max_depth=12,\n",
       "                               min_child_weight=1, missing=nan,\n",
       "                               monotone_constraints='()', n_estimators=75,\n",
       "                               n_jobs=0, num_parallel_tree=1, random_state=42,\n",
       "                               reg_alpha=0, reg_lambda=1, scale_pos_weight=1,\n",
       "                               subsample=1, tree_method='exact',\n",
       "                               validate_parameters=1, verbosity=None))])"
      ]
     },
     "execution_count": 21,
     "metadata": {},
     "output_type": "execute_result"
    }
   ],
   "source": [
    "clf_xgb = Pipeline(steps=[\n",
    "    ('preprocessor', preprocessor), \n",
    "    ('XGBoost', XGBClassifier(random_state=42, learning_rate=.25, \n",
    "                              max_depth=12, n_estimators=75))\n",
    "])\n",
    "\n",
    "clf_xgb.fit(X_train, y_train)"
   ]
  },
  {
   "cell_type": "code",
   "execution_count": 22,
   "metadata": {},
   "outputs": [
    {
     "name": "stdout",
     "output_type": "stream",
     "text": [
      "Train Accuracy: 0.8262762783502307\n",
      "Test Accuracy: 0.6657085167839816\n"
     ]
    }
   ],
   "source": [
    "print(f\"Train Accuracy: {clf_xgb.score(X_train, y_train)}\")\n",
    "print(f\"Test Accuracy: {clf_xgb.score(X_test, y_test)}\")"
   ]
  },
  {
   "cell_type": "code",
   "execution_count": 25,
   "metadata": {
    "scrolled": false
   },
   "outputs": [
    {
     "name": "stdout",
     "output_type": "stream",
     "text": [
      "Train F1: 0.8248\n",
      "Train Precision: 0.8230\n",
      "Train ROC-AUC: 0.8263\n",
      "Test F1: 0.6629\n",
      "Test Precision: 0.6649\n",
      "Test ROC-AUC: 0.6657\n"
     ]
    },
    {
     "data": {
      "image/png": "[encoded data removed]",
      "text/plain": [
       "<Figure size 432x288 with 2 Axes>"
      ]
     },
     "metadata": {
      "needs_background": "light"
     },
     "output_type": "display_data"
    },
    {
     "data": {
      "image/png": "[encoded data removed]",
      "text/plain": [
       "<Figure size 432x288 with 1 Axes>"
      ]
     },
     "metadata": {
      "needs_background": "light"
     },
     "output_type": "display_data"
    }
   ],
   "source": [
    "evaluate(clf_xgb, X_train, X_test, y_train, y_test)"
   ]
  },
  {
   "cell_type": "markdown",
   "metadata": {},
   "source": [
    "## KNN Model"
   ]
  },
  {
   "cell_type": "markdown",
   "metadata": {},
   "source": [
    "I chose to run a KNN model because it does a solid job of making predictions and has no training period which means that it can take in new data at any time and it will not effect the model."
   ]
  },
  {
   "cell_type": "markdown",
   "metadata": {},
   "source": [
    "The following code is from lesson 12. "
   ]
  },
  {
   "cell_type": "code",
   "execution_count": 77,
   "metadata": {},
   "outputs": [
    {
     "data": {
      "text/plain": [
       "Pipeline(steps=[('preprocessor',\n",
       "                 ColumnTransformer(transformers=[('nums', StandardScaler(),\n",
       "                                                  ['danceability', 'energy',\n",
       "                                                   'loudness', 'key', 'mode',\n",
       "                                                   'speechiness',\n",
       "                                                   'acousticness',\n",
       "                                                   'instrumentalness',\n",
       "                                                   'liveness', 'valence',\n",
       "                                                   'tempo',\n",
       "                                                   'time_signature'])])),\n",
       "                ('KNN', KNeighborsClassifier())])"
      ]
     },
     "execution_count": 77,
     "metadata": {},
     "output_type": "execute_result"
    }
   ],
   "source": [
    "clf_knn = Pipeline(steps=[\n",
    "    ('preprocessor', preprocessor), \n",
    "    ('KNN', KNeighborsClassifier(n_neighbors=5))\n",
    "])\n",
    "\n",
    "clf_knn.fit(X_train, y_train)"
   ]
  },
  {
   "cell_type": "code",
   "execution_count": 26,
   "metadata": {},
   "outputs": [
    {
     "name": "stdout",
     "output_type": "stream",
     "text": [
      "Train Accuracy: 0.7573104707470033\n",
      "Test Accuracy: 0.634021648733504\n"
     ]
    }
   ],
   "source": [
    "print(f\"Train Accuracy: {clf_knn.score(X_train, y_train)}\")\n",
    "print(f\"Test Accuracy: {clf_knn.score(X_test, y_test)}\")"
   ]
  },
  {
   "cell_type": "code",
   "execution_count": 28,
   "metadata": {},
   "outputs": [
    {
     "name": "stdout",
     "output_type": "stream",
     "text": [
      "Train F1: 0.7414\n",
      "Train Precision: 0.7428\n",
      "Train ROC-AUC: 0.7563\n",
      "Test F1: 0.6110\n",
      "Test Precision: 0.6115\n",
      "Test ROC-AUC: 0.6327\n"
     ]
    },
    {
     "data": {
      "image/png": "[encoded data removed]",
      "text/plain": [
       "<Figure size 432x288 with 2 Axes>"
      ]
     },
     "metadata": {
      "needs_background": "light"
     },
     "output_type": "display_data"
    },
    {
     "data": {
      "image/png": "[encoded data removed]",
      "text/plain": [
       "<Figure size 432x288 with 1 Axes>"
      ]
     },
     "metadata": {
      "needs_background": "light"
     },
     "output_type": "display_data"
    }
   ],
   "source": [
    "evaluate(clf_knn, X_train, X_test, y_train, y_test)"
   ]
  },
  {
   "cell_type": "markdown",
   "metadata": {},
   "source": [
    "With KNN and XGBoost being my best models in terms of accuracy and lowest amount of false positives, I am going to continue to improve both models going forward and see which one I will use for my recommendation system. My main focus will be to minimize the number of false positives in my KNN confusion matrix. "
   ]
  },
  {
   "cell_type": "markdown",
   "metadata": {},
   "source": [
    "## Tuning KNN Model"
   ]
  },
  {
   "cell_type": "code",
   "execution_count": 62,
   "metadata": {},
   "outputs": [],
   "source": [
    "knn_cv = Pipeline(steps=[\n",
    "    ('preprocessor', preprocessor), \n",
    "    ('KNN', KNeighborsClassifier())\n",
    "])"
   ]
  },
  {
   "cell_type": "code",
   "execution_count": 63,
   "metadata": {},
   "outputs": [],
   "source": [
    "param_grid = {\n",
    "    'KNN__p':[1, 2],\n",
    "    'KNN__weights':['uniform', 'distance'],\n",
    "    'KNN__n_neighbors':[5, 9, 13, 17]\n",
    "}"
   ]
  },
  {
   "cell_type": "code",
   "execution_count": 64,
   "metadata": {
    "scrolled": true
   },
   "outputs": [
    {
     "data": {
      "text/plain": [
       "GridSearchCV(cv=5,\n",
       "             estimator=Pipeline(steps=[('preprocessor',\n",
       "                                        ColumnTransformer(transformers=[('nums',\n",
       "                                                                         StandardScaler(),\n",
       "                                                                         ['danceability',\n",
       "                                                                          'energy',\n",
       "                                                                          'loudness',\n",
       "                                                                          'key',\n",
       "                                                                          'mode',\n",
       "                                                                          'speechiness',\n",
       "                                                                          'acousticness',\n",
       "                                                                          'instrumentalness',\n",
       "                                                                          'liveness',\n",
       "                                                                          'valence',\n",
       "                                                                          'tempo',\n",
       "                                                                          'time_signature'])])),\n",
       "                                       ('KNN', KNeighborsClassifier())]),\n",
       "             param_grid={'KNN__n_neighbors': [5, 9, 13, 17], 'KNN__p': [1, 2],\n",
       "                         'KNN__weights': ['uniform', 'distance']},\n",
       "             scoring='f1')"
      ]
     },
     "execution_count": 64,
     "metadata": {},
     "output_type": "execute_result"
    }
   ],
   "source": [
    "gs_knn = GridSearchCV(knn_cv, param_grid, cv=5, scoring='f1', verbose=1)\n",
    "\n",
    "\n",
    "gs_knn.fit(X_train_scaled, y_train)"
   ]
  },
  {
   "cell_type": "code",
   "execution_count": 66,
   "metadata": {
    "scrolled": true
   },
   "outputs": [
    {
     "data": {
      "text/plain": [
       "{'KNN__n_neighbors': 17, 'KNN__p': 1, 'KNN__weights': 'distance'}"
      ]
     },
     "execution_count": 66,
     "metadata": {},
     "output_type": "execute_result"
    }
   ],
   "source": [
    "gs_knn.best_params_"
   ]
  },
  {
   "cell_type": "code",
   "execution_count": 67,
   "metadata": {},
   "outputs": [
    {
     "data": {
      "text/plain": [
       "0.6381741827489732"
      ]
     },
     "execution_count": 67,
     "metadata": {},
     "output_type": "execute_result"
    }
   ],
   "source": [
    "gs_knn.best_score_"
   ]
  },
  {
   "cell_type": "markdown",
   "metadata": {},
   "source": [
    "## Tuning XGBoost Model"
   ]
  },
  {
   "cell_type": "code",
   "execution_count": 54,
   "metadata": {},
   "outputs": [],
   "source": [
    "xgboost_cv = Pipeline(steps=[\n",
    "    ('preprocessor', preprocessor), \n",
    "    ('XGBoost', xgb.XGBClassifier())\n",
    "])"
   ]
  },
  {
   "cell_type": "code",
   "execution_count": 55,
   "metadata": {},
   "outputs": [],
   "source": [
    "param_xgb = {\n",
    "    'XGBoost__learning_rate':[.25, .5, .75],\n",
    "    'XGBoost__n_estimators':[5, 9, 13, 17], \n",
    "    'XGBoost__max_depth':[1, 5, 10]\n",
    "}"
   ]
  },
  {
   "cell_type": "code",
   "execution_count": 56,
   "metadata": {},
   "outputs": [
    {
     "name": "stdout",
     "output_type": "stream",
     "text": [
      "Fitting 5 folds for each of 36 candidates, totalling 180 fits\n"
     ]
    },
    {
     "name": "stderr",
     "output_type": "stream",
     "text": [
      "[Parallel(n_jobs=1)]: Using backend SequentialBackend with 1 concurrent workers.\n",
      "[Parallel(n_jobs=1)]: Done 180 out of 180 | elapsed:  5.6min finished\n"
     ]
    },
    {
     "data": {
      "text/plain": [
       "GridSearchCV(cv=5,\n",
       "             estimator=Pipeline(steps=[('preprocessor',\n",
       "                                        ColumnTransformer(transformers=[('nums',\n",
       "                                                                         StandardScaler(),\n",
       "                                                                         ['danceability',\n",
       "                                                                          'energy',\n",
       "                                                                          'loudness',\n",
       "                                                                          'key',\n",
       "                                                                          'mode',\n",
       "                                                                          'speechiness',\n",
       "                                                                          'acousticness',\n",
       "                                                                          'instrumentalness',\n",
       "                                                                          'liveness',\n",
       "                                                                          'valence',\n",
       "                                                                          'tempo',\n",
       "                                                                          'time_signature'])])),\n",
       "                                       ('XGBoost',\n",
       "                                        XGBClassifier(base_score=None,\n",
       "                                                      booster=None,\n",
       "                                                      colsample_bylevel=None,\n",
       "                                                      colsampl...\n",
       "                                                      monotone_constraints=None,\n",
       "                                                      n_estimators=100,\n",
       "                                                      n_jobs=None,\n",
       "                                                      num_parallel_tree=None,\n",
       "                                                      random_state=None,\n",
       "                                                      reg_alpha=None,\n",
       "                                                      reg_lambda=None,\n",
       "                                                      scale_pos_weight=None,\n",
       "                                                      subsample=None,\n",
       "                                                      tree_method=None,\n",
       "                                                      validate_parameters=None,\n",
       "                                                      verbosity=None))]),\n",
       "             param_grid={'XGBoost__learning_rate': [0.25, 0.5, 0.75],\n",
       "                         'XGBoost__max_depth': [1, 5, 10],\n",
       "                         'XGBoost__n_estimators': [5, 9, 13, 17]},\n",
       "             scoring='f1', verbose=1)"
      ]
     },
     "execution_count": 56,
     "metadata": {},
     "output_type": "execute_result"
    }
   ],
   "source": [
    "gs_xgb = GridSearchCV(xgboost_cv, param_xgb, cv=5, scoring='f1', verbose=1)\n",
    "\n",
    "\n",
    "gs_xgb.fit(X_train_scaled, y_train)"
   ]
  },
  {
   "cell_type": "code",
   "execution_count": 57,
   "metadata": {},
   "outputs": [
    {
     "data": {
      "text/plain": [
       "{'XGBoost__learning_rate': 0.75,\n",
       " 'XGBoost__max_depth': 1,\n",
       " 'XGBoost__n_estimators': 5}"
      ]
     },
     "execution_count": 57,
     "metadata": {},
     "output_type": "execute_result"
    }
   ],
   "source": [
    "gs_xgb.best_params_"
   ]
  },
  {
   "cell_type": "code",
   "execution_count": 58,
   "metadata": {},
   "outputs": [
    {
     "data": {
      "text/plain": [
       "0.6659925656693341"
      ]
     },
     "execution_count": 58,
     "metadata": {},
     "output_type": "execute_result"
    }
   ],
   "source": [
    "gs_xgb.best_score_"
   ]
  },
  {
   "cell_type": "markdown",
   "metadata": {},
   "source": [
    "The XGBoost model did better than the KNN model after running a GridSearch to find the best parameters to get the best score. I am going to use the XGBoost model to make my predictions. "
   ]
  },
  {
   "cell_type": "markdown",
   "metadata": {},
   "source": [
    "## Improved XGBoost model"
   ]
  },
  {
   "cell_type": "code",
   "execution_count": 24,
   "metadata": {},
   "outputs": [
    {
     "data": {
      "text/plain": [
       "XGBClassifier(base_score=0.5, booster='gbtree', colsample_bylevel=1,\n",
       "              colsample_bynode=1, colsample_bytree=1, gamma=0, gpu_id=-1,\n",
       "              importance_type='gain', interaction_constraints='',\n",
       "              learning_rate=0.75, max_delta_step=0, max_depth=1,\n",
       "              min_child_weight=1, missing=nan, monotone_constraints='()',\n",
       "              n_estimators=5, n_jobs=0, num_parallel_tree=1, random_state=42,\n",
       "              reg_alpha=0, reg_lambda=1, scale_pos_weight=1, subsample=1,\n",
       "              tree_method='exact', validate_parameters=1, verbosity=None)"
      ]
     },
     "execution_count": 24,
     "metadata": {},
     "output_type": "execute_result"
    }
   ],
   "source": [
    "xgb_model = xgb.XGBClassifier(random_state=42, learning_rate=.75, \n",
    "                              max_depth=1, n_estimators=5)\n",
    "\n",
    "xgb_model.fit(X_train_scaled, y_train)"
   ]
  },
  {
   "cell_type": "code",
   "execution_count": 25,
   "metadata": {},
   "outputs": [
    {
     "name": "stdout",
     "output_type": "stream",
     "text": [
      "Train Score: 0.6249274841846459\n",
      "Test Score: 0.6251156790712022\n"
     ]
    }
   ],
   "source": [
    "print(f\"Train Score: {xgb_model.score(X_train_scaled, y_train)}\")\n",
    "print(f\"Test Score: {xgb_model.score(X_test_scaled, y_test)}\")"
   ]
  },
  {
   "cell_type": "code",
   "execution_count": 29,
   "metadata": {},
   "outputs": [
    {
     "name": "stdout",
     "output_type": "stream",
     "text": [
      "Train F1: 0.6658\n",
      "Train Precision: 0.5953\n",
      "Train ROC-AUC: 0.6263\n",
      "Test F1: 0.6667\n",
      "Test Precision: 0.5975\n",
      "Test ROC-AUC: 0.6258\n"
     ]
    },
    {
     "data": {
      "image/png": "[encoded data removed]",
      "text/plain": [
       "<Figure size 432x288 with 2 Axes>"
      ]
     },
     "metadata": {
      "needs_background": "light"
     },
     "output_type": "display_data"
    },
    {
     "data": {
      "image/png": "[encoded data removed]",
      "text/plain": [
       "<Figure size 432x288 with 1 Axes>"
      ]
     },
     "metadata": {
      "needs_background": "light"
     },
     "output_type": "display_data"
    }
   ],
   "source": [
    "evaluate(xgb_model, X_train_scaled, X_test_scaled, y_train, y_test)"
   ]
  },
  {
   "cell_type": "markdown",
   "metadata": {},
   "source": [
    "## Conclusions \n",
    "\n"
   ]
  },
  {
   "cell_type": "markdown",
   "metadata": {},
   "source": [
    "- I was able to make a model that can predict whether a song is popular or not with 62% accuracy and reduce the overfitting on my training data. \n",
    "- I was able to increase my true positives by nearly 7,000 songs. \n",
    "- We will miss out on 12% of songs that are actually positive. "
   ]
  },
  {
   "cell_type": "code",
   "execution_count": null,
   "metadata": {},
   "outputs": [],
   "source": []
  },
  {
   "cell_type": "code",
   "execution_count": null,
   "metadata": {},
   "outputs": [],
   "source": []
  },
  {
   "cell_type": "code",
   "execution_count": null,
   "metadata": {},
   "outputs": [],
   "source": []
  }
 ],
 "metadata": {
  "kernelspec": {
   "display_name": "Python (learn-env)",
   "language": "python",
   "name": "learn-env"
  },
  "language_info": {
   "codemirror_mode": {
    "name": "ipython",
    "version": 3
   },
   "file_extension": ".py",
   "mimetype": "text/x-python",
   "name": "python",
   "nbconvert_exporter": "python",
   "pygments_lexer": "ipython3",
   "version": "3.8.5"
  }
 },
 "nbformat": 4,
 "nbformat_minor": 4
}
