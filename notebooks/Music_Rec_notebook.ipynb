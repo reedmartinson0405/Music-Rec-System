{
 "cells": [
  {
   "cell_type": "markdown",
   "metadata": {},
   "source": [
    "# Music Recommendation Notebook"
   ]
  },
  {
   "cell_type": "markdown",
   "metadata": {},
   "source": [
    "## Business Understanding \n",
    "\n"
   ]
  },
  {
   "cell_type": "code",
   "execution_count": 48,
   "metadata": {},
   "outputs": [],
   "source": [
    "import pandas as pd \n",
    "import numpy as np \n",
    "import matplotlib.pyplot as plt\n",
    "import surprise\n",
    "import seaborn as sns\n",
    "\n",
    "from sklearn.model_selection import train_test_split\n",
    "from sklearn.preprocessing import StandardScaler\n",
    "from sklearn.linear_model import LinearRegression, LogisticRegression\n",
    "\n",
    "from surprise import SVD\n",
    "from surprise import Dataset\n",
    "from surprise.model_selection import cross_validate\n",
    "\n"
   ]
  },
  {
   "cell_type": "code",
   "execution_count": 14,
   "metadata": {},
   "outputs": [],
   "source": [
    "pd.set_option('display.max_columns', 500)"
   ]
  },
  {
   "cell_type": "markdown",
   "metadata": {},
   "source": [
    "Loading my cleaned dataframe from my Explore notebook."
   ]
  },
  {
   "cell_type": "code",
   "execution_count": 15,
   "metadata": {},
   "outputs": [],
   "source": [
    "df = pd.read_csv('final_df.csv', index_col=0)"
   ]
  },
  {
   "cell_type": "code",
   "execution_count": 26,
   "metadata": {},
   "outputs": [
    {
     "data": {
      "text/html": [
       "<div>\n",
       "<style scoped>\n",
       "    .dataframe tbody tr th:only-of-type {\n",
       "        vertical-align: middle;\n",
       "    }\n",
       "\n",
       "    .dataframe tbody tr th {\n",
       "        vertical-align: top;\n",
       "    }\n",
       "\n",
       "    .dataframe thead th {\n",
       "        text-align: right;\n",
       "    }\n",
       "</style>\n",
       "<table border=\"1\" class=\"dataframe\">\n",
       "  <thead>\n",
       "    <tr style=\"text-align: right;\">\n",
       "      <th></th>\n",
       "      <th>track_popularity</th>\n",
       "      <th>duration_ms</th>\n",
       "      <th>explicit</th>\n",
       "      <th>danceability</th>\n",
       "      <th>energy</th>\n",
       "      <th>key</th>\n",
       "      <th>loudness</th>\n",
       "      <th>mode</th>\n",
       "      <th>speechiness</th>\n",
       "      <th>acousticness</th>\n",
       "      <th>instrumentalness</th>\n",
       "      <th>liveness</th>\n",
       "      <th>valence</th>\n",
       "      <th>tempo</th>\n",
       "      <th>time_signature</th>\n",
       "      <th>followers</th>\n",
       "      <th>artist_popularity</th>\n",
       "    </tr>\n",
       "  </thead>\n",
       "  <tbody>\n",
       "    <tr>\n",
       "      <th>count</th>\n",
       "      <td>470038.000000</td>\n",
       "      <td>4.700380e+05</td>\n",
       "      <td>470038.000000</td>\n",
       "      <td>470038.000000</td>\n",
       "      <td>470038.000000</td>\n",
       "      <td>470038.000000</td>\n",
       "      <td>470038.000000</td>\n",
       "      <td>470038.000000</td>\n",
       "      <td>470038.000000</td>\n",
       "      <td>470038.000000</td>\n",
       "      <td>470038.000000</td>\n",
       "      <td>470038.000000</td>\n",
       "      <td>470038.000000</td>\n",
       "      <td>470038.000000</td>\n",
       "      <td>470038.000000</td>\n",
       "      <td>4.700380e+05</td>\n",
       "      <td>470038.000000</td>\n",
       "    </tr>\n",
       "    <tr>\n",
       "      <th>mean</th>\n",
       "      <td>28.392524</td>\n",
       "      <td>2.267375e+05</td>\n",
       "      <td>0.034987</td>\n",
       "      <td>0.565913</td>\n",
       "      <td>0.555447</td>\n",
       "      <td>5.223099</td>\n",
       "      <td>-9.883890</td>\n",
       "      <td>0.664434</td>\n",
       "      <td>0.100757</td>\n",
       "      <td>0.429147</td>\n",
       "      <td>0.093756</td>\n",
       "      <td>0.213999</td>\n",
       "      <td>0.564334</td>\n",
       "      <td>119.226204</td>\n",
       "      <td>3.879657</td>\n",
       "      <td>1.064992e+06</td>\n",
       "      <td>50.310469</td>\n",
       "    </tr>\n",
       "    <tr>\n",
       "      <th>std</th>\n",
       "      <td>17.494863</td>\n",
       "      <td>1.147592e+05</td>\n",
       "      <td>0.183746</td>\n",
       "      <td>0.159077</td>\n",
       "      <td>0.244112</td>\n",
       "      <td>3.520338</td>\n",
       "      <td>4.618667</td>\n",
       "      <td>0.472189</td>\n",
       "      <td>0.178089</td>\n",
       "      <td>0.339304</td>\n",
       "      <td>0.241880</td>\n",
       "      <td>0.185237</td>\n",
       "      <td>0.252629</td>\n",
       "      <td>29.704765</td>\n",
       "      <td>0.456678</td>\n",
       "      <td>3.851286e+06</td>\n",
       "      <td>19.688863</td>\n",
       "    </tr>\n",
       "    <tr>\n",
       "      <th>min</th>\n",
       "      <td>0.000000</td>\n",
       "      <td>3.344000e+03</td>\n",
       "      <td>0.000000</td>\n",
       "      <td>0.000000</td>\n",
       "      <td>0.000000</td>\n",
       "      <td>0.000000</td>\n",
       "      <td>-60.000000</td>\n",
       "      <td>0.000000</td>\n",
       "      <td>0.000000</td>\n",
       "      <td>0.000000</td>\n",
       "      <td>0.000000</td>\n",
       "      <td>0.000000</td>\n",
       "      <td>0.000000</td>\n",
       "      <td>0.000000</td>\n",
       "      <td>0.000000</td>\n",
       "      <td>0.000000e+00</td>\n",
       "      <td>0.000000</td>\n",
       "    </tr>\n",
       "    <tr>\n",
       "      <th>25%</th>\n",
       "      <td>15.000000</td>\n",
       "      <td>1.756470e+05</td>\n",
       "      <td>0.000000</td>\n",
       "      <td>0.460000</td>\n",
       "      <td>0.367000</td>\n",
       "      <td>2.000000</td>\n",
       "      <td>-12.489000</td>\n",
       "      <td>0.000000</td>\n",
       "      <td>0.033200</td>\n",
       "      <td>0.088800</td>\n",
       "      <td>0.000000</td>\n",
       "      <td>0.098000</td>\n",
       "      <td>0.361000</td>\n",
       "      <td>96.361000</td>\n",
       "      <td>4.000000</td>\n",
       "      <td>1.295900e+04</td>\n",
       "      <td>38.000000</td>\n",
       "    </tr>\n",
       "    <tr>\n",
       "      <th>50%</th>\n",
       "      <td>28.000000</td>\n",
       "      <td>2.147870e+05</td>\n",
       "      <td>0.000000</td>\n",
       "      <td>0.577000</td>\n",
       "      <td>0.560000</td>\n",
       "      <td>5.000000</td>\n",
       "      <td>-9.137000</td>\n",
       "      <td>1.000000</td>\n",
       "      <td>0.042800</td>\n",
       "      <td>0.394000</td>\n",
       "      <td>0.000019</td>\n",
       "      <td>0.139000</td>\n",
       "      <td>0.576000</td>\n",
       "      <td>118.041000</td>\n",
       "      <td>4.000000</td>\n",
       "      <td>9.399400e+04</td>\n",
       "      <td>52.000000</td>\n",
       "    </tr>\n",
       "    <tr>\n",
       "      <th>75%</th>\n",
       "      <td>41.000000</td>\n",
       "      <td>2.615162e+05</td>\n",
       "      <td>0.000000</td>\n",
       "      <td>0.682000</td>\n",
       "      <td>0.755000</td>\n",
       "      <td>8.000000</td>\n",
       "      <td>-6.471000</td>\n",
       "      <td>1.000000</td>\n",
       "      <td>0.071300</td>\n",
       "      <td>0.746000</td>\n",
       "      <td>0.005120</td>\n",
       "      <td>0.278000</td>\n",
       "      <td>0.778000</td>\n",
       "      <td>137.293500</td>\n",
       "      <td>4.000000</td>\n",
       "      <td>5.953350e+05</td>\n",
       "      <td>65.000000</td>\n",
       "    </tr>\n",
       "    <tr>\n",
       "      <th>max</th>\n",
       "      <td>99.000000</td>\n",
       "      <td>5.621218e+06</td>\n",
       "      <td>1.000000</td>\n",
       "      <td>0.991000</td>\n",
       "      <td>1.000000</td>\n",
       "      <td>11.000000</td>\n",
       "      <td>5.376000</td>\n",
       "      <td>1.000000</td>\n",
       "      <td>0.969000</td>\n",
       "      <td>0.996000</td>\n",
       "      <td>1.000000</td>\n",
       "      <td>1.000000</td>\n",
       "      <td>1.000000</td>\n",
       "      <td>246.381000</td>\n",
       "      <td>5.000000</td>\n",
       "      <td>7.890023e+07</td>\n",
       "      <td>100.000000</td>\n",
       "    </tr>\n",
       "  </tbody>\n",
       "</table>\n",
       "</div>"
      ],
      "text/plain": [
       "       track_popularity   duration_ms       explicit   danceability  \\\n",
       "count     470038.000000  4.700380e+05  470038.000000  470038.000000   \n",
       "mean          28.392524  2.267375e+05       0.034987       0.565913   \n",
       "std           17.494863  1.147592e+05       0.183746       0.159077   \n",
       "min            0.000000  3.344000e+03       0.000000       0.000000   \n",
       "25%           15.000000  1.756470e+05       0.000000       0.460000   \n",
       "50%           28.000000  2.147870e+05       0.000000       0.577000   \n",
       "75%           41.000000  2.615162e+05       0.000000       0.682000   \n",
       "max           99.000000  5.621218e+06       1.000000       0.991000   \n",
       "\n",
       "              energy            key       loudness           mode  \\\n",
       "count  470038.000000  470038.000000  470038.000000  470038.000000   \n",
       "mean        0.555447       5.223099      -9.883890       0.664434   \n",
       "std         0.244112       3.520338       4.618667       0.472189   \n",
       "min         0.000000       0.000000     -60.000000       0.000000   \n",
       "25%         0.367000       2.000000     -12.489000       0.000000   \n",
       "50%         0.560000       5.000000      -9.137000       1.000000   \n",
       "75%         0.755000       8.000000      -6.471000       1.000000   \n",
       "max         1.000000      11.000000       5.376000       1.000000   \n",
       "\n",
       "         speechiness   acousticness  instrumentalness       liveness  \\\n",
       "count  470038.000000  470038.000000     470038.000000  470038.000000   \n",
       "mean        0.100757       0.429147          0.093756       0.213999   \n",
       "std         0.178089       0.339304          0.241880       0.185237   \n",
       "min         0.000000       0.000000          0.000000       0.000000   \n",
       "25%         0.033200       0.088800          0.000000       0.098000   \n",
       "50%         0.042800       0.394000          0.000019       0.139000   \n",
       "75%         0.071300       0.746000          0.005120       0.278000   \n",
       "max         0.969000       0.996000          1.000000       1.000000   \n",
       "\n",
       "             valence          tempo  time_signature     followers  \\\n",
       "count  470038.000000  470038.000000   470038.000000  4.700380e+05   \n",
       "mean        0.564334     119.226204        3.879657  1.064992e+06   \n",
       "std         0.252629      29.704765        0.456678  3.851286e+06   \n",
       "min         0.000000       0.000000        0.000000  0.000000e+00   \n",
       "25%         0.361000      96.361000        4.000000  1.295900e+04   \n",
       "50%         0.576000     118.041000        4.000000  9.399400e+04   \n",
       "75%         0.778000     137.293500        4.000000  5.953350e+05   \n",
       "max         1.000000     246.381000        5.000000  7.890023e+07   \n",
       "\n",
       "       artist_popularity  \n",
       "count      470038.000000  \n",
       "mean           50.310469  \n",
       "std            19.688863  \n",
       "min             0.000000  \n",
       "25%            38.000000  \n",
       "50%            52.000000  \n",
       "75%            65.000000  \n",
       "max           100.000000  "
      ]
     },
     "execution_count": 26,
     "metadata": {},
     "output_type": "execute_result"
    }
   ],
   "source": [
    "df.describe()"
   ]
  },
  {
   "cell_type": "code",
   "execution_count": 27,
   "metadata": {},
   "outputs": [
    {
     "data": {
      "text/html": [
       "<div>\n",
       "<style scoped>\n",
       "    .dataframe tbody tr th:only-of-type {\n",
       "        vertical-align: middle;\n",
       "    }\n",
       "\n",
       "    .dataframe tbody tr th {\n",
       "        vertical-align: top;\n",
       "    }\n",
       "\n",
       "    .dataframe thead th {\n",
       "        text-align: right;\n",
       "    }\n",
       "</style>\n",
       "<table border=\"1\" class=\"dataframe\">\n",
       "  <thead>\n",
       "    <tr style=\"text-align: right;\">\n",
       "      <th></th>\n",
       "      <th>track_id</th>\n",
       "      <th>track_name</th>\n",
       "      <th>release_date</th>\n",
       "      <th>artist_id</th>\n",
       "      <th>genres</th>\n",
       "      <th>artist_name</th>\n",
       "    </tr>\n",
       "  </thead>\n",
       "  <tbody>\n",
       "    <tr>\n",
       "      <th>count</th>\n",
       "      <td>470038</td>\n",
       "      <td>470038</td>\n",
       "      <td>470038</td>\n",
       "      <td>470038</td>\n",
       "      <td>432228</td>\n",
       "      <td>470038</td>\n",
       "    </tr>\n",
       "    <tr>\n",
       "      <th>unique</th>\n",
       "      <td>470038</td>\n",
       "      <td>358182</td>\n",
       "      <td>18896</td>\n",
       "      <td>55682</td>\n",
       "      <td>18524</td>\n",
       "      <td>55111</td>\n",
       "    </tr>\n",
       "    <tr>\n",
       "      <th>top</th>\n",
       "      <td>1NyOfJ2HWWVNFALoglHljk</td>\n",
       "      <td>Summertime</td>\n",
       "      <td>1998-01-01</td>\n",
       "      <td>3meJIgRw7YleJrmbpbJK6S</td>\n",
       "      <td>hoerspiel</td>\n",
       "      <td>Die drei ???</td>\n",
       "    </tr>\n",
       "    <tr>\n",
       "      <th>freq</th>\n",
       "      <td>1</td>\n",
       "      <td>86</td>\n",
       "      <td>2571</td>\n",
       "      <td>3856</td>\n",
       "      <td>8027</td>\n",
       "      <td>3856</td>\n",
       "    </tr>\n",
       "  </tbody>\n",
       "</table>\n",
       "</div>"
      ],
      "text/plain": [
       "                      track_id  track_name release_date  \\\n",
       "count                   470038      470038       470038   \n",
       "unique                  470038      358182        18896   \n",
       "top     1NyOfJ2HWWVNFALoglHljk  Summertime   1998-01-01   \n",
       "freq                         1          86         2571   \n",
       "\n",
       "                     artist_id     genres   artist_name  \n",
       "count                   470038     432228        470038  \n",
       "unique                   55682      18524         55111  \n",
       "top     3meJIgRw7YleJrmbpbJK6S  hoerspiel  Die drei ???  \n",
       "freq                      3856       8027          3856  "
      ]
     },
     "execution_count": 27,
     "metadata": {},
     "output_type": "execute_result"
    }
   ],
   "source": [
    "df.describe(include=\"O\")"
   ]
  },
  {
   "cell_type": "markdown",
   "metadata": {},
   "source": [
    "Looking at unique values in genres so that I can potentially start trying to predict genre based on song features such as danceability, energy, loudness, etc. "
   ]
  },
  {
   "cell_type": "code",
   "execution_count": 29,
   "metadata": {
    "scrolled": true
   },
   "outputs": [
    {
     "data": {
      "text/plain": [
       "array([nan, 'tango, vintage tango',\n",
       "       'adult standards, big band, easy listening, lounge, swing', ...,\n",
       "       'anthem worship, deep ccm, world worship',\n",
       "       'anthem worship, roots worship',\n",
       "       'alt z, alternative r&b, bedroom pop, indie cafe pop, indie pop, pop'],\n",
       "      dtype=object)"
      ]
     },
     "execution_count": 29,
     "metadata": {},
     "output_type": "execute_result"
    }
   ],
   "source": [
    "df['genres'].unique()"
   ]
  },
  {
   "cell_type": "markdown",
   "metadata": {},
   "source": [
    "Finding a genre with a large enough presence in my dataframe to make a solid starter model."
   ]
  },
  {
   "cell_type": "code",
   "execution_count": 36,
   "metadata": {},
   "outputs": [
    {
     "data": {
      "text/plain": [
       "0.42205949306226304"
      ]
     },
     "execution_count": 36,
     "metadata": {},
     "output_type": "execute_result"
    }
   ],
   "source": [
    "df['genres'].str.contains('pop').sum() / len(df)"
   ]
  },
  {
   "cell_type": "code",
   "execution_count": 35,
   "metadata": {},
   "outputs": [
    {
     "data": {
      "text/plain": [
       "0"
      ]
     },
     "execution_count": 35,
     "metadata": {},
     "output_type": "execute_result"
    }
   ],
   "source": [
    "df.duplicated(subset='track_id').sum()"
   ]
  },
  {
   "cell_type": "markdown",
   "metadata": {},
   "source": [
    "Looking at the distribution of popularity scores so that I can also make predictions on how popular a track will be given a song's features."
   ]
  },
  {
   "cell_type": "code",
   "execution_count": 40,
   "metadata": {},
   "outputs": [
    {
     "data": {
      "image/png": "[encoded data removed]",
      "text/plain": [
       "<Figure size 432x288 with 1 Axes>"
      ]
     },
     "metadata": {
      "needs_background": "light"
     },
     "output_type": "display_data"
    }
   ],
   "source": [
    "df['track_popularity'].plot(kind='hist', bins=20);"
   ]
  },
  {
   "cell_type": "code",
   "execution_count": 41,
   "metadata": {},
   "outputs": [
    {
     "data": {
      "text/plain": [
       "count    470038.000000\n",
       "mean         28.392524\n",
       "std          17.494863\n",
       "min           0.000000\n",
       "25%          15.000000\n",
       "50%          28.000000\n",
       "75%          41.000000\n",
       "max          99.000000\n",
       "Name: track_popularity, dtype: float64"
      ]
     },
     "execution_count": 41,
     "metadata": {},
     "output_type": "execute_result"
    }
   ],
   "source": [
    "df['track_popularity'].describe()"
   ]
  },
  {
   "cell_type": "code",
   "execution_count": 45,
   "metadata": {},
   "outputs": [
    {
     "data": {
      "text/plain": [
       "0.45150817593471165"
      ]
     },
     "execution_count": 45,
     "metadata": {},
     "output_type": "execute_result"
    }
   ],
   "source": [
    "len(df[df['track_popularity'] > 30]) / len(df)"
   ]
  },
  {
   "cell_type": "markdown",
   "metadata": {},
   "source": [
    "The threshold of predicting songs that score higher than 30 gives me a good sample of data to make predictions off of. "
   ]
  },
  {
   "cell_type": "code",
   "execution_count": null,
   "metadata": {},
   "outputs": [],
   "source": []
  },
  {
   "cell_type": "code",
   "execution_count": null,
   "metadata": {},
   "outputs": [],
   "source": []
  },
  {
   "cell_type": "code",
   "execution_count": null,
   "metadata": {},
   "outputs": [],
   "source": []
  },
  {
   "cell_type": "code",
   "execution_count": null,
   "metadata": {},
   "outputs": [],
   "source": []
  },
  {
   "cell_type": "code",
   "execution_count": null,
   "metadata": {},
   "outputs": [],
   "source": []
  },
  {
   "cell_type": "code",
   "execution_count": null,
   "metadata": {},
   "outputs": [],
   "source": []
  }
 ],
 "metadata": {
  "kernelspec": {
   "display_name": "Python (learn-env)",
   "language": "python",
   "name": "learn-env"
  },
  "language_info": {
   "codemirror_mode": {
    "name": "ipython",
    "version": 3
   },
   "file_extension": ".py",
   "mimetype": "text/x-python",
   "name": "python",
   "nbconvert_exporter": "python",
   "pygments_lexer": "ipython3",
   "version": "3.8.5"
  }
 },
 "nbformat": 4,
 "nbformat_minor": 4
}
